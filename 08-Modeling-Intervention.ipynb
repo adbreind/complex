{
 "cells": [
  {
   "cell_type": "markdown",
   "id": "d0f65e88-b886-45f5-8aa1-1e091570971d",
   "metadata": {},
   "source": [
    "# Modeling a System and an Intervention\n",
    "\n",
    "In this module, we'll go deeper with a single problem and we'll try to...\n",
    "* consider modeling strategies\n",
    "* identify an existing model as a starting point\n",
    "* implement the model and discuss calibration\n",
    "* propose an intervention\n",
    "* plan experiments to model the costs and benefits of the intervention"
   ]
  },
  {
   "cell_type": "markdown",
   "id": "c3a0ab63-3244-4660-aac0-2596482a4207",
   "metadata": {},
   "source": [
    "## Crop disease\n",
    "\n",
    "Crop disease is a common agricultural challenge. In the absence of targeted (e.g., pharmaceutical or chemical) solutions, we might take a step back and see if there are some systems characteristics we can identify and use to propose additional options.\n",
    "\n",
    "### Modeling strategies\n",
    "\n",
    "There are lots of ways we might model the crop disease phenomenon.\n",
    "\n",
    "Let's start with some abstractions:\n",
    "* consider a square plot of land\n",
    "* subdivided into many smaller, uniform sections\n",
    "* where each section is sufficiently small that\n",
    "    * it either only includes one plant, or else is small enough that all of the plants in the cell are likely to either be healthy or diseased\n",
    "* disease can spread locally but not directly over large distances\n",
    "\n",
    "This is a *spatial* model with local, short-term interaction patterns. We might model this with a 2-D cellular automaton.\n",
    "\n",
    "Of course this is oversimplified. But remember\n",
    "* we know that extremely large, complicated models can produce phenomena of interest\n",
    "    * but our ability to work with those models -- espcially for causal interventions -- is limited\n",
    "* the goal here is to come up with a parsimonious generative model that might produce the outcome we're addressing\n",
    "\n"
   ]
  },
  {
   "cell_type": "markdown",
   "id": "3e9434f8-8365-400e-8cf8-0adfc865a76e",
   "metadata": {},
   "source": [
    "### Forest fire model"
   ]
  },
  {
   "cell_type": "markdown",
   "id": "1d96395f-854b-4fc8-9438-443dffe37258",
   "metadata": {},
   "source": [
    "Our crop damage model is similar to an existing well-known model: the Forest Fire Cellular Automaton, which is a simple computational model used to study the dynamics of forest fires.\n",
    "\n",
    "The Forest Fire model was introduced by Drossel and Schwabl in 1992.\n",
    "* the model is interesting because it can generate clusters of trees that are power-law distributed\n",
    "    * meaning that there are many small clusters and a few large ones\n",
    "    * this feature is observed in many natural and social systems\n",
    "* the Forest Fire model has been used to study not only the dynamics of forest fires\n",
    "    * but also other phenomena that exhibit similar patterns, such as the spread of diseases or information through a network\n",
    "\n",
    "The Forest Fire Cellular Automaton model typically has three states for each cell: empty, tree, and burning. At each time step, the model updates the state of each cell based on the following rules:\n",
    "\n",
    "1. A burning cell turns into an empty cell.\n",
    "2. A tree will become a burning cell if at least one neighbor is burning.\n",
    "3. An empty space becomes a tree with probability `p`.\n",
    "4. A tree ignites, turning into a burning cell with probability `f`, regardless of its neighboring cells.\n",
    "\n",
    "In this model, `p` is the tree growth probability and `f` is the lightning strike probability, representing the chance of a tree spontaneously catching fire. These probabilities are typically small.\n",
    "\n",
    "Let's implement a basic model:"
   ]
  },
  {
   "cell_type": "code",
   "execution_count": null,
   "id": "2f44e0ae-f64e-49e1-b082-82f88f878be8",
   "metadata": {
    "tags": []
   },
   "outputs": [],
   "source": [
    "import numpy as np\n",
    "import matplotlib.pyplot as plt\n",
    "\n",
    "# Define the states\n",
    "EMPTY, TREE, BURNING = 0, 1, 2\n",
    "\n",
    "# Define the probabilities\n",
    "p, f = 0.03, 0.001  # probabilities of tree growth and fire\n",
    "\n",
    "# Grid size\n",
    "size = (100, 100)\n",
    "\n",
    "# Initialize grid: all cells start as empty\n",
    "grid = np.zeros(size, dtype=int)"
   ]
  },
  {
   "cell_type": "markdown",
   "id": "87c10380-76e3-4f9b-9679-ab53c738563f",
   "metadata": {},
   "source": [
    "The update function implements the CA rules"
   ]
  },
  {
   "cell_type": "code",
   "execution_count": null,
   "id": "4abb4cb5-5966-49f3-bcac-f4f29bfe38ec",
   "metadata": {
    "tags": []
   },
   "outputs": [],
   "source": [
    "def update(grid):\n",
    "    new_grid = grid.copy()\n",
    "    for i in range(size[0]):\n",
    "        for j in range(size[1]):\n",
    "            if grid[i, j] == EMPTY and np.random.rand() < p:\n",
    "                new_grid[i, j] = TREE\n",
    "            elif grid[i, j] == TREE:\n",
    "                if np.random.rand() < f:\n",
    "                    new_grid[i, j] = BURNING\n",
    "                elif any(grid[ii, jj] == BURNING for ii in range(max(i-1, 0), min(i+2, size[0]))\n",
    "                                               for jj in range(max(j-1, 0), min(j+2, size[1]))):\n",
    "                    new_grid[i, j] = BURNING\n",
    "            elif grid[i, j] == BURNING:\n",
    "                new_grid[i, j] = EMPTY\n",
    "    return new_grid"
   ]
  },
  {
   "cell_type": "markdown",
   "id": "35f77f4e-8960-4965-8321-7ee806d79292",
   "metadata": {},
   "source": [
    "To make the output easier to interpret, we can define a custom color mapping where\n",
    "* black = empty\n",
    "* gree = tree\n",
    "* orange = fire\n",
    "\n",
    "\n",
    "Note that for implementation simplicity, this mapping is only accurate once all 3 states are present in the space, which typically happens after the first 2-3 iterations."
   ]
  },
  {
   "cell_type": "code",
   "execution_count": null,
   "id": "f26abf87-0ceb-463a-b41c-0812948bd00e",
   "metadata": {
    "tags": []
   },
   "outputs": [],
   "source": [
    "from matplotlib.colors import ListedColormap\n",
    "\n",
    "cmap = ListedColormap(['black', 'green', 'orange'])"
   ]
  },
  {
   "cell_type": "code",
   "execution_count": null,
   "id": "126c261c-8000-4be9-a48c-6c6d531cb100",
   "metadata": {
    "tags": []
   },
   "outputs": [],
   "source": [
    "from IPython import display\n",
    "import time\n",
    "\n",
    "n_steps = 100\n",
    "\n",
    "for step in range(n_steps):\n",
    "    grid = update(grid)\n",
    "    display.clear_output(wait=True)\n",
    "    plt.matshow(grid, cmap=cmap)\n",
    "    plt.title(f\"Step {step} of {n_steps}\")\n",
    "    plt.show()"
   ]
  },
  {
   "cell_type": "markdown",
   "id": "b7ef2e9c-1427-40bf-9d43-301ad09b1db8",
   "metadata": {},
   "source": [
    "If the tree growth (or crop replacement) is much faster, it creates more fuel at the same time, so we get another dynamic"
   ]
  },
  {
   "cell_type": "code",
   "execution_count": null,
   "id": "51a2ee8b-99cc-4583-93fb-11e5a52eacfb",
   "metadata": {
    "tags": []
   },
   "outputs": [],
   "source": [
    "p, f = 0.35, 0.001  # probabilities of tree growth and fire\n",
    "\n",
    "grid = np.zeros(size, dtype=int)"
   ]
  },
  {
   "cell_type": "code",
   "execution_count": null,
   "id": "0ee687e2-0bf0-44eb-bd6e-f67dcf148c15",
   "metadata": {
    "tags": []
   },
   "outputs": [],
   "source": [
    "for step in range(n_steps):\n",
    "    grid = update(grid)\n",
    "    display.clear_output(wait=True)\n",
    "    plt.matshow(grid, cmap=cmap)\n",
    "    plt.title(f\"Step {step} of {n_steps}\")\n",
    "    plt.show()"
   ]
  },
  {
   "cell_type": "markdown",
   "id": "07cc68d5-9f52-4240-b116-150f3c860568",
   "metadata": {},
   "source": [
    "This result looks a lot more like pure noise ... perhaps there is a tipping point probability that represents a boundary between these outcomes. \n",
    "\n",
    "That would be an interesting investigation, but today we'll return to the original configuration and look at how we might limit the disease spread in a traditional and practical way.\n",
    "\n",
    "### Intervention\n",
    "\n",
    "An imperfect intervention that is often applied to forest fires -- and might be suitable for a crop disease experiment -- is the creation of \"fire breaks.\"\n",
    "\n",
    "Fire breaks are trenches, roads, or other areas of bare ground cut through the forest in order to make it harder for fire to spread. These fire breaks are imperfect because wind can blow burning material across the break. In our model, though, the CA rules don't allow for failures of breaks, because they only address neighboring cells.\n",
    "\n",
    "* Could we model stochastic fire break failure? What would that look like?\n",
    "* What are some advantages and disadvantages to adding that additional realistic element to our model?\n",
    "\n",
    "For now, we'll keep the model as it is and consider the effects of breaks:\n",
    "\n",
    "How effective are they? Before we can even answer that, we need to think about how to measure effectiveness.\n",
    "1. We can look at prior- and post- intervention damage ratios\n",
    "1. But we also need to consider the cost: each break represents an area with no crops\n",
    "1. Consider the limit case: breaks everywhere, disease nowhere ... but no crops either. So we need to consider the cost of the intervention.\n",
    "\n",
    "### Lab Project\n",
    "\n",
    "1. Choose an initial configuration of the model -- to keep things simple, you may want to fix the step count -- and calculate the healthy yield at the end of the iterations.\n",
    "2. Choose a fire break design or pattern to experiment with -- it should be something easily scalable, such as a single north-south break in the center (which could be iterated by subdividing the remaining areas and adding identical breaks)\n",
    "3. For each level of intervention, measure\n",
    "    1. healthy yield at the end of the sequence\n",
    "    2. cost of the intervention (measured in cells or land area)\n",
    "4. Plot the yield against the intervention level\n",
    "\n",
    "When we're done, we'll discuss the results."
   ]
  },
  {
   "cell_type": "code",
   "execution_count": null,
   "id": "08cf4d1a-9b30-46ad-bd4a-c105a6927cf0",
   "metadata": {},
   "outputs": [],
   "source": []
  }
 ],
 "metadata": {
  "kernelspec": {
   "display_name": "Python 3 (ipykernel)",
   "language": "python",
   "name": "python3"
  },
  "language_info": {
   "codemirror_mode": {
    "name": "ipython",
    "version": 3
   },
   "file_extension": ".py",
   "mimetype": "text/x-python",
   "name": "python",
   "nbconvert_exporter": "python",
   "pygments_lexer": "ipython3",
   "version": "3.9.16"
  }
 },
 "nbformat": 4,
 "nbformat_minor": 5
}
