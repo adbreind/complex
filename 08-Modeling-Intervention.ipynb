{
 "cells": [
  {
   "cell_type": "markdown",
   "id": "fba84c6f-9674-4731-bafa-baed46102517",
   "metadata": {},
   "source": [
    "# Modeling a System and an Intervention\n",
    "\n",
    "The Forest Fire Cellular Automaton is a simple computational model used to study the dynamics of forest fires. \n",
    "\n",
    "The Forest Fire Cellular Automaton model typically has three states for each cell: empty, tree, and burning. At each time step, the model updates the state of each cell based on the following rules:\n",
    "\n",
    "1. A burning cell turns into an empty cell.\n",
    "2. A tree will become a burning cell if at least one neighbor is burning.\n",
    "3. An empty space becomes a tree with probability `p`.\n",
    "4. A tree ignites, turning into a burning cell with probability `f`, regardless of its neighboring cells.\n",
    "\n",
    "In this model, `p` is the tree growth probability and `f` is the lightning strike probability, representing the chance of a tree spontaneously catching fire. These probabilities are typically quite small.\n",
    "\n",
    "The Forest Fire model was introduced by Drossel and Schwabl in 1992. The model is interesting because it can generate clusters of trees that are power-law distributed, meaning that there are many small clusters and a few large ones, which is a feature observed in many natural and social systems. As such, the Forest Fire model has been used to study not only the dynamics of forest fires but also other phenomena that exhibit similar patterns, such as the spread of diseases or information through a network."
   ]
  },
  {
   "cell_type": "code",
   "execution_count": null,
   "id": "8674ba77-be4f-4723-b966-744cb368d3cb",
   "metadata": {
    "tags": []
   },
   "outputs": [],
   "source": [
    "import numpy as np\n",
    "import matplotlib.pyplot as plt\n",
    "\n",
    "# Define the states\n",
    "EMPTY, TREE, BURNING = 0, 1, 2\n",
    "\n",
    "# Define the probabilities\n",
    "p, f = 0.03, 0.001  # probabilities of tree growth and fire\n",
    "\n",
    "# Grid size\n",
    "size = (100, 100)\n",
    "\n",
    "# Initialize grid: all cells start as empty\n",
    "grid = np.zeros(size, dtype=int)\n",
    "\n",
    "def update(grid):\n",
    "    new_grid = grid.copy()\n",
    "    for i in range(size[0]):\n",
    "        for j in range(size[1]):\n",
    "            if grid[i, j] == EMPTY and np.random.rand() < p:\n",
    "                new_grid[i, j] = TREE\n",
    "            elif grid[i, j] == TREE:\n",
    "                if np.random.rand() < f:\n",
    "                    new_grid[i, j] = BURNING\n",
    "                elif any(grid[ii, jj] == BURNING for ii in range(max(i-1, 0), min(i+2, size[0]))\n",
    "                                               for jj in range(max(j-1, 0), min(j+2, size[1]))):\n",
    "                    new_grid[i, j] = BURNING\n",
    "            elif grid[i, j] == BURNING:\n",
    "                new_grid[i, j] = EMPTY\n",
    "    return new_grid"
   ]
  },
  {
   "cell_type": "code",
   "execution_count": null,
   "id": "f26abf87-0ceb-463a-b41c-0812948bd00e",
   "metadata": {
    "tags": []
   },
   "outputs": [],
   "source": [
    "from matplotlib.colors import ListedColormap\n",
    "\n",
    "cmap = ListedColormap(['black', 'green', 'orange'])"
   ]
  },
  {
   "cell_type": "code",
   "execution_count": null,
   "id": "126c261c-8000-4be9-a48c-6c6d531cb100",
   "metadata": {
    "tags": []
   },
   "outputs": [],
   "source": [
    "from IPython import display\n",
    "import time\n",
    "\n",
    "n_steps = 10\n",
    "\n",
    "for _ in range(n_steps):\n",
    "    grid = update(grid)\n",
    "    display.clear_output(wait=True)\n",
    "    plt.matshow(grid, cmap=cmap)\n",
    "    plt.show()\n",
    "    time.sleep(0.05)"
   ]
  },
  {
   "cell_type": "code",
   "execution_count": null,
   "id": "fcb95f6a-8d3f-41a2-a7e5-0022d89a2be6",
   "metadata": {},
   "outputs": [],
   "source": []
  }
 ],
 "metadata": {
  "kernelspec": {
   "display_name": "Python 3 (ipykernel)",
   "language": "python",
   "name": "python3"
  },
  "language_info": {
   "codemirror_mode": {
    "name": "ipython",
    "version": 3
   },
   "file_extension": ".py",
   "mimetype": "text/x-python",
   "name": "python",
   "nbconvert_exporter": "python",
   "pygments_lexer": "ipython3",
   "version": "3.9.16"
  }
 },
 "nbformat": 4,
 "nbformat_minor": 5
}
