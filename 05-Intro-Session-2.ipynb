{
 "cells": [
  {
   "cell_type": "markdown",
   "id": "6ddc98d2-2317-4189-8077-b22021792379",
   "metadata": {},
   "source": [
    "# Data-Driven Analysis and Modeling of Complex Adaptive Systems\n",
    "## Improve Your Understanding of Systems and Emergent Behaviors\n",
    "\n",
    "<img src='images/complex-icon.png'>"
   ]
  },
  {
   "cell_type": "markdown",
   "id": "d37d6f5c-65a9-4a9c-8dff-b53baa5171f8",
   "metadata": {
    "tags": []
   },
   "source": [
    "### Session 2 Plan\n",
    "\n",
    "Models for Thinking: Agents\n",
    "- Agent-based models\n",
    "- Simulating Shelling’s segregation model\n",
    "- Interpreting the results of an ABM\n",
    "- More recent research\n",
    "\n",
    "Models for Thinking: Path-dependence\n",
    "- Part-vs-whole\n",
    "- Ensemble averages vs. time averages\n",
    "- Stateful agents\n",
    "\n",
    "Example Systems\n",
    "- Financial risks\n",
    "- Tech platform success and failure\n",
    "- Hiring and promotion\n",
    "\n",
    "Counterintuitive Problem-Solving Approaches\n",
    "- Synthesize linearity\n",
    "- Weaken links\n",
    "- Make delays work for you\n",
    "- Lower the signal-to-noise ratio\n",
    "- Distribute decision-making\n",
    "- Reset paths\n",
    "\n",
    "Modeling a System and an Intervention in the System\n",
    "- Geographical (location-based) model: crop threats\n",
    "- The forest-fire model: a cellular automaton implementation\n",
    "- What are the model parameters? How would we calibrate them?\n",
    "- How might we intervene to get better crops?\n",
    "- Lab experiments\n",
    "- Drawing conclusions\n",
    "\n",
    "Q&A and Wrap Up"
   ]
  },
  {
   "cell_type": "code",
   "execution_count": null,
   "id": "0917918a-c9c2-4752-aa52-9dac18b9e666",
   "metadata": {},
   "outputs": [],
   "source": []
  }
 ],
 "metadata": {
  "kernelspec": {
   "display_name": "Python 3 (ipykernel)",
   "language": "python",
   "name": "python3"
  },
  "language_info": {
   "codemirror_mode": {
    "name": "ipython",
    "version": 3
   },
   "file_extension": ".py",
   "mimetype": "text/x-python",
   "name": "python",
   "nbconvert_exporter": "python",
   "pygments_lexer": "ipython3",
   "version": "3.9.16"
  }
 },
 "nbformat": 4,
 "nbformat_minor": 5
}
