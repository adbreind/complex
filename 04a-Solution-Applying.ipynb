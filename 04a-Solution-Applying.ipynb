{
 "cells": [
  {
   "cell_type": "markdown",
   "id": "ebff0126-531a-4a05-a142-b71395ece701",
   "metadata": {},
   "source": [
    "# Applying Complex Systems Modeling\n",
    "\n",
    "Let's consider a practical scenario that can exhibit complex system dynamic and which we often need to address in business contexts (as well as social, political, and other spheres): __product introduction and viral adoption__.\n",
    "\n",
    "Naturally, there are many elements that can influence the viral success (or lack thereof) for a product and viral success is notoriously hard to craft or predict, notwithstanding all of those influencer courses that make promises.\n",
    "\n",
    "## General approach: network analysis\n",
    "\n",
    "We can imagine the various users, influencers, and potential users of our product as nodes in a graph or network which captures their relationships.\n",
    "\n",
    "If we understand the characteristics of the network, we can learn about how our product might spread.\n",
    "\n",
    "For example, if the network space has attractors states representing little connection vs. massive connection, we would want to understand\n",
    "* if our product is likely to enter the system in the \"massive connection\" basin of attraction (which we'd like)\n",
    "* whether the system exhibits tipping point behavior at the \"edge\" between the low and high connection attractor regions\n",
    "    * what parameters the system is more or less sensitive to and which might allow us to manipulate or at least plan for better odds\n",
    "\n",
    "<img src='images/Energy_landscape.png' width=700 />\n",
    "\n",
    "In this notebook, we'll focus first on investigating a flavor of network that is closer to real-world social connections than the E-R graphs we looked at earlier.\n",
    "\n",
    "We'll aim to learn the answers to the above questions through experiments.\n",
    "\n",
    "## Small world graphs"
   ]
  },
  {
   "cell_type": "markdown",
   "id": "9bb50d11-e928-4c2a-99ae-9b54a9def284",
   "metadata": {},
   "source": [
    "Small world graphs, or small world networks, are a type of graph in which most nodes can be reached from every other node by a small number of steps. This type of network was first described in the 1960s by social psychologist __Stanley Milgram__ in his \"small world experiment\". The experiment highlighted the concept of \"six degrees of separation,\" suggesting that any two people on Earth could be connected through a chain of six acquaintances or less.\n",
    "\n",
    "In Milgram's experiment, he sent packages to 160 random people living in Boston, asking them to forward the package to a friend or acquaintance who they thought would bring the package closer to a designated final individual, a stockbroker also living in Boston. Surprisingly, the packages reached the stockbroker in an average of six steps, hence the term \"six degrees of separation\".\n",
    "\n",
    "https://en.wikipedia.org/wiki/Small-world_experiment"
   ]
  },
  {
   "cell_type": "markdown",
   "id": "59cc760b-aadc-41c3-b15f-41787f93919c",
   "metadata": {},
   "source": [
    "This discovery has had far-reaching implications, influencing several fields from sociology to computer science. \n",
    "\n",
    "In the late 1990s, mathematicians __Duncan Watts__ and __Steven Strogatz__ formalized the concept of small world networks in a mathematical context. \n",
    "\n",
    "They proposed a simple model for generating such networks, starting with a regular lattice and then rewiring some of its edges at random. This model revealed that even a small amount of rewiring could give rise to a network with both high clustering (like a regular lattice) and short average path lengths (like a random graph), a hallmark of small-world networks."
   ]
  },
  {
   "cell_type": "code",
   "execution_count": null,
   "id": "7cccf94a-7d96-40ba-9faa-5d8e1847831c",
   "metadata": {
    "tags": []
   },
   "outputs": [],
   "source": [
    "import networkx as nx\n",
    "import matplotlib.pyplot as plt\n",
    "\n",
    "# Create a Watts-Strogatz small world graph\n",
    "# n = number of nodes\n",
    "# k = each node is connected to k nearest neighbors in ring topology\n",
    "# p = the probability of rewiring each edge\n",
    "n, k, p = 20, 4, 0.5\n",
    "G = nx.watts_strogatz_graph(n, k, p)\n",
    "\n",
    "nx.draw(G, with_labels=True)\n",
    "plt.show()"
   ]
  },
  {
   "cell_type": "markdown",
   "id": "4c72a66d-d800-42c4-9685-0d39f8c74526",
   "metadata": {},
   "source": [
    "Read more about the Watts-Strogatz model at https://en.wikipedia.org/wiki/Watts%E2%80%93Strogatz_model\n",
    "\n",
    "> Note that although this model has some statistics and topological characteristics that are similar to organic social networks, it is also different in significant ways. Simple generative processes for organic-similar networks are an ongoing area of research and we've chosen to use the simples model from this family for this introductory topic."
   ]
  },
  {
   "cell_type": "code",
   "execution_count": null,
   "id": "fac531cb-361f-4e47-9f0a-05c5880a0eba",
   "metadata": {
    "tags": []
   },
   "outputs": [],
   "source": [
    "nx.is_connected(G)"
   ]
  },
  {
   "cell_type": "markdown",
   "id": "d9f51fac-a332-4537-9318-8ba7188716f2",
   "metadata": {},
   "source": [
    "It doesn't seem surprising that the network is connected, given the process tha generated it.\n",
    "\n",
    "Let's try another, bigger graph with different parameters."
   ]
  },
  {
   "cell_type": "code",
   "execution_count": null,
   "id": "c4ee68c7-5867-46f7-90d8-0fcb748c5481",
   "metadata": {
    "tags": []
   },
   "outputs": [],
   "source": [
    "n, k, p = 100, 3, 0.01\n",
    "G = nx.watts_strogatz_graph(n, k, p)\n",
    "\n",
    "nx.draw(G, with_labels=True)\n",
    "plt.show()"
   ]
  },
  {
   "cell_type": "code",
   "execution_count": null,
   "id": "1d2f390c-1280-4edd-9487-c066f1903790",
   "metadata": {
    "tags": []
   },
   "outputs": [],
   "source": [
    "nx.is_connected(G)"
   ]
  },
  {
   "cell_type": "markdown",
   "id": "ba73e44b-d048-40b2-ad62-9405f08d4c5e",
   "metadata": {},
   "source": [
    "Maybe all of these graphs -- or nearly all -- are connected...\n",
    "\n",
    "Let's try one with a larger \"population\""
   ]
  },
  {
   "cell_type": "code",
   "execution_count": null,
   "id": "46f64d05-9225-42cd-96d5-542187eab03d",
   "metadata": {
    "tags": []
   },
   "outputs": [],
   "source": [
    "n, k, p = 10000, 3, 0.01\n",
    "G = nx.watts_strogatz_graph(n, k, p)\n",
    "nx.is_connected(G)"
   ]
  },
  {
   "cell_type": "markdown",
   "id": "c1cfda20-6a41-47b3-ab7a-3444fa2802bf",
   "metadata": {},
   "source": [
    "We could experiment for a few minutes with different combinations of parameters but it's not obvious what's going on. \n",
    "\n",
    "We can be more systematic by running a large number of simulations and counting the outcomes.\n",
    "\n",
    "with `n, k, p = 10000, 3, 0.01` run 100 simulations and look at the proportion which are connected"
   ]
  },
  {
   "cell_type": "code",
   "execution_count": null,
   "id": "18d7bef2-eb89-4b07-aeff-20816f0ac43b",
   "metadata": {
    "tags": []
   },
   "outputs": [],
   "source": [
    "sum(nx.is_connected(nx.watts_strogatz_graph(n,k,p)) for _ in range(100))"
   ]
  },
  {
   "cell_type": "markdown",
   "id": "eaa986e8-201f-4cd4-9dd8-563344f406f5",
   "metadata": {},
   "source": [
    "Now try `n, k, p = 10000, 3, 0.5` and repeat the experiment"
   ]
  },
  {
   "cell_type": "code",
   "execution_count": null,
   "id": "5bc38b71-f4ec-4686-88c5-7f7d6fae71ed",
   "metadata": {
    "tags": []
   },
   "outputs": [],
   "source": [
    "n, k, p = 10000, 3, 0.5\n",
    "sum(nx.is_connected(nx.watts_strogatz_graph(n,k,p)) for _ in range(100))"
   ]
  },
  {
   "cell_type": "markdown",
   "id": "3e904ea1-20e7-4533-bff3-15e6b39e4473",
   "metadata": {},
   "source": [
    "This is better than one-off sampling, but it's not very systematic.\n",
    "\n",
    "Let's fix the graph size at 10,000 and experiment with `k` and `p`\n",
    "\n",
    "To keep it simple, we'll experiment with `k` first. Leave `p` at 0.5 and calculate the connectedness proportion for values of `k` from 2 up through 6.\n",
    "\n",
    "Plot the results"
   ]
  },
  {
   "cell_type": "code",
   "execution_count": null,
   "id": "53f324b8-6c8a-4939-9902-8c555e996764",
   "metadata": {
    "tags": []
   },
   "outputs": [],
   "source": [
    "x = range(2,7)"
   ]
  },
  {
   "cell_type": "code",
   "execution_count": null,
   "id": "e292e154-f9fa-4191-9f28-541ea49dc917",
   "metadata": {
    "tags": []
   },
   "outputs": [],
   "source": [
    "conn = [0.01 * sum(nx.is_connected(nx.watts_strogatz_graph(n,k,p)) for _ in range(100)) for k in x]"
   ]
  },
  {
   "cell_type": "code",
   "execution_count": null,
   "id": "e3bcee73-19c1-4877-b1f0-73740350f1f1",
   "metadata": {
    "tags": []
   },
   "outputs": [],
   "source": [
    "plt.plot(x, conn)"
   ]
  },
  {
   "cell_type": "markdown",
   "id": "a6b8ef51-8952-4f4d-a535-ffdbc9692449",
   "metadata": {},
   "source": [
    "What do you notice about the results?\n",
    "\n",
    "Since we have 2 parameters we're interested in ($k$ and $p$), if we had more time it would make sense to plot a 3-D graph (connectedness probability as a function of $k$ and $p$). \n",
    "\n",
    "But we can take a shortcut that will save some time (both coding and running).\n",
    "\n",
    "If there is an interesting boundary in your previous plot, pick the integer value on either side (since the parameter $k$ represents a whole number of neighbor nodes)\n",
    "\n",
    "For each of those two values, calculate the connected proportion when varying the $p$ parameter (probability of rewiring) across this set of possible values:"
   ]
  },
  {
   "cell_type": "code",
   "execution_count": null,
   "id": "411c6d12-2920-4281-8167-13f545ac28c5",
   "metadata": {
    "tags": []
   },
   "outputs": [],
   "source": [
    "probs = [0.05, 0.1, 0.2, 0.3, 0.4, 0.5, 0.6]"
   ]
  },
  {
   "cell_type": "markdown",
   "id": "856eefcb-c2d8-431f-b7ef-95bdea200a11",
   "metadata": {},
   "source": [
    "Plot the results."
   ]
  },
  {
   "cell_type": "code",
   "execution_count": null,
   "id": "13a2bd29-02bd-450e-bac8-2da2aaee3868",
   "metadata": {
    "tags": []
   },
   "outputs": [],
   "source": [
    "conn_k3 = [0.01 * sum(nx.is_connected(nx.watts_strogatz_graph(n,3,p)) for _ in range(100)) for p in probs]\n",
    "conn_k4 = [0.01 * sum(nx.is_connected(nx.watts_strogatz_graph(n,4,p)) for _ in range(100)) for p in probs]"
   ]
  },
  {
   "cell_type": "code",
   "execution_count": null,
   "id": "e193b20e-7725-4f4a-8ce4-7c08090ab381",
   "metadata": {
    "tags": []
   },
   "outputs": [],
   "source": [
    "plt.plot(probs, conn_k3, label='k=3')\n",
    "plt.plot(probs, conn_k4, label='k=4')\n",
    "plt.legend()"
   ]
  },
  {
   "cell_type": "markdown",
   "id": "2ee6ce68-5e3e-43f5-bbe1-206fba576acb",
   "metadata": {},
   "source": [
    "* What does this tell us about the sensitivity of this graph family to the two parameters?\n",
    "\n",
    "* Can you think of realistic scenarios where the $k$ (neighbor connection) might take on values between 2 and 6?\n",
    "\n",
    "* If this graph were sufficiently similar to our customer and influencer graph, would this be \"good news\" or \"bad news\"?\n",
    "\n",
    "* What could we do to increase our chances of success?"
   ]
  },
  {
   "cell_type": "markdown",
   "id": "51922dad-5801-4fa4-97fb-cd77ff7c3015",
   "metadata": {},
   "source": [
    "### Going further\n",
    "\n",
    "Next steps could include simulating\n",
    "* the spread of the product through the network measuring spread as a function of time\n",
    "* the entry of a competing product, spreading elsewhere in the network, to see\n",
    "    * how the relative timing of product launch affects final market share in a \"first-in wins\" scenario\n",
    "    * long-term dynamics of a multiproduct market with low or moderate switching costs\n",
    "* different types of people (nodes) and relationships (edges) with different and probabilistic behaviors\n",
    "\n",
    "> In some ways, modeling this product spread may remind you of SEIR models used in epidemiology and other population-spread problems. Those are great tools too -- what are the pros and cons of the SEIR approach vs. a network simulation approach?\n",
    "\n",
    "And of course we could try other graph-building algorithms that might have better similarity to our target population.\n"
   ]
  },
  {
   "cell_type": "code",
   "execution_count": null,
   "id": "86bf8fb9-109b-44db-8929-aff0f3adf84f",
   "metadata": {},
   "outputs": [],
   "source": []
  }
 ],
 "metadata": {
  "kernelspec": {
   "display_name": "Python 3 (ipykernel)",
   "language": "python",
   "name": "python3"
  },
  "language_info": {
   "codemirror_mode": {
    "name": "ipython",
    "version": 3
   },
   "file_extension": ".py",
   "mimetype": "text/x-python",
   "name": "python",
   "nbconvert_exporter": "python",
   "pygments_lexer": "ipython3",
   "version": "3.9.16"
  }
 },
 "nbformat": 4,
 "nbformat_minor": 5
}
