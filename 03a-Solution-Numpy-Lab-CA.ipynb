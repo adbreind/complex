{
 "cells": [
  {
   "cell_type": "markdown",
   "metadata": {
    "colab_type": "text",
    "id": "26VI4drphOwP"
   },
   "source": [
    "# Cellular Automata\n",
    "\n",
    "In this lab, we'll use NumPy to implement Conway's classic \"Life\" automaton.\n",
    "\n",
    "In Conway's game of life, we consider the Moore Neighborhood (https://en.wikipedia.org/wiki/Moore_neighborhood) of the 8 cells surrounding each cell, and apply the following rules:\n",
    "* Any live cell with fewer than two live neighbours dies (referred to as underpopulation or exposure).\n",
    "* Any live cell with more than three live neighbours dies (referred to as overpopulation or overcrowding).\n",
    "* Any live cell with two or three live neighbours lives, unchanged, to the next generation.\n",
    "* Any dead cell with exactly three live neighbours will come to life.\n",
    "\n",
    "Our grid will a 2-dimensional NumPy array, with zeros representing empty/dead cells, and ones representing living cells.\n",
    "\n",
    "E.g.,"
   ]
  },
  {
   "cell_type": "code",
   "execution_count": null,
   "metadata": {
    "colab": {},
    "colab_type": "code",
    "id": "7NMxLSTz9zZg",
    "tags": []
   },
   "outputs": [],
   "source": [
    "import numpy as np\n",
    "\n",
    "a = np.random.randint(2, size=(15, 15), dtype=np.uint8)\n",
    "print(a)"
   ]
  },
  {
   "cell_type": "markdown",
   "metadata": {
    "colab_type": "text",
    "id": "QCRlZlMyidRA"
   },
   "source": [
    "The first thing to do is create an update routine. Given an existing grid, `a`, generate the next step as a matrix `b`"
   ]
  },
  {
   "cell_type": "code",
   "execution_count": null,
   "metadata": {
    "colab": {},
    "colab_type": "code",
    "id": "X5tyZoh494EW",
    "tags": []
   },
   "outputs": [],
   "source": [
    "b = np.zeros_like(a)\n",
    "rows, cols = a.shape\n",
    "for i in range(1, rows-1):\n",
    "    for j in range(1, cols-1):\n",
    "        state = a[i, j]\n",
    "        neighbors = a[i-1:i+2, j-1:j+2]\n",
    "        k = np.sum(neighbors) - state\n",
    "        if state:\n",
    "            if k==2 or k==3:\n",
    "                b[i, j] = 1\n",
    "        else:\n",
    "            if k == 3:\n",
    "                b[i, j] = 1\n",
    "\n",
    "print(b)"
   ]
  },
  {
   "cell_type": "markdown",
   "metadata": {
    "colab_type": "text",
    "id": "7GJr6PcwjACf"
   },
   "source": [
    "Wrap that code in a function called `step` and we can use it to produce graphical output (albeit not very nicely animated) in the notebook."
   ]
  },
  {
   "cell_type": "code",
   "execution_count": null,
   "metadata": {
    "colab": {},
    "colab_type": "code",
    "id": "Dv2Kh5pq-e-O",
    "tags": []
   },
   "outputs": [],
   "source": [
    "def step(old):\n",
    "    a = old\n",
    "    b = np.zeros_like(a)\n",
    "    rows, cols = a.shape\n",
    "    for i in range(1, rows-1):\n",
    "        for j in range(1, cols-1):\n",
    "            state = a[i, j]\n",
    "            neighbors = a[i-1:i+2, j-1:j+2]\n",
    "            k = np.sum(neighbors) - state\n",
    "            if state:\n",
    "                if k==2 or k==3:\n",
    "                    b[i, j] = 1\n",
    "            else:\n",
    "                if k == 3:\n",
    "                    b[i, j] = 1\n",
    "    return b"
   ]
  },
  {
   "cell_type": "code",
   "execution_count": null,
   "metadata": {
    "colab": {},
    "colab_type": "code",
    "id": "D-bypqMX-sbb",
    "tags": []
   },
   "outputs": [],
   "source": [
    "step(a)"
   ]
  },
  {
   "cell_type": "markdown",
   "metadata": {
    "colab_type": "text",
    "id": "H84o-SzbjI4K"
   },
   "source": [
    "This code starts with an initial grid `a` and iterates 10 times, printing the output as text:"
   ]
  },
  {
   "cell_type": "code",
   "execution_count": null,
   "metadata": {
    "colab": {},
    "colab_type": "code",
    "id": "NzF7mkbI-t8c",
    "tags": []
   },
   "outputs": [],
   "source": [
    "from IPython import display\n",
    "import time\n",
    "\n",
    "data = a.copy()\n",
    "for i in range(10):\n",
    "    data = step(data)\n",
    "    display.clear_output(wait=True)\n",
    "    display.display(data)\n",
    "    time.sleep(1.0)"
   ]
  },
  {
   "cell_type": "markdown",
   "metadata": {
    "colab_type": "text",
    "id": "CgzlTym7jSzK"
   },
   "source": [
    "Since Matplotlib will render our matrix as a graphical grid, by default..."
   ]
  },
  {
   "cell_type": "code",
   "execution_count": null,
   "metadata": {
    "colab": {},
    "colab_type": "code",
    "id": "o9irmfJT_cpF",
    "tags": []
   },
   "outputs": [],
   "source": [
    "import matplotlib.pyplot as plt\n",
    "\n",
    "plt.matshow(a)"
   ]
  },
  {
   "cell_type": "markdown",
   "metadata": {
    "colab_type": "text",
    "id": "5_0bhxt5jZJc"
   },
   "source": [
    "... we can plug that in to runder multiple steps in the notebook:"
   ]
  },
  {
   "cell_type": "code",
   "execution_count": null,
   "metadata": {
    "colab": {},
    "colab_type": "code",
    "id": "tyybrSF4_oOz",
    "tags": []
   },
   "outputs": [],
   "source": [
    "data = a.copy()\n",
    "for i in range(20):\n",
    "    data = step(data)\n",
    "    display.clear_output(wait=True)\n",
    "    plt.matshow(data)\n",
    "    plt.show()\n",
    "    time.sleep(0.5)"
   ]
  },
  {
   "cell_type": "markdown",
   "metadata": {
    "colab_type": "text",
    "id": "VS9AH8Bkje_5"
   },
   "source": [
    "You may have previously come across this operation of multiplying and summing a local grid of values relative to a center point. Although it has the misnomer \"convolution\" in deep neural networks, it's a simpler operation called \"discrete cross correlation\" and the SciPy `signal` package has a built-in implementation that works with NumPy.\n",
    "\n",
    "See if you can use that to simplify your update (`step`)  code."
   ]
  },
  {
   "cell_type": "code",
   "execution_count": null,
   "metadata": {
    "colab": {},
    "colab_type": "code",
    "id": "7Q75A9qP96z1",
    "tags": []
   },
   "outputs": [],
   "source": [
    "from scipy.signal import correlate2d\n",
    "\n",
    "kernel = np.array([[1, 1, 1],\n",
    "                   [1, 0, 1],\n",
    "                   [1, 1, 1]])\n",
    "\n",
    "c = correlate2d(a, kernel, mode='same')\n",
    "b = (c==3) | (c==2) & a\n",
    "b = b.astype(np.uint8)\n",
    "print(b)"
   ]
  },
  {
   "cell_type": "markdown",
   "metadata": {
    "colab_type": "text",
    "id": "PVPU7UQK932a"
   },
   "source": [
    "Some very simple patterns can generate extremely long-lived processes in the game of life model. One of them is called Rabbits: http://www.conwaylife.com/wiki/Rabbits\n",
    "\n",
    "For fun, you can try generating the game from the rabbit pattern."
   ]
  },
  {
   "cell_type": "code",
   "execution_count": null,
   "metadata": {
    "colab": {},
    "colab_type": "code",
    "id": "LNclI6cD994k"
   },
   "outputs": [],
   "source": []
  }
 ],
 "metadata": {
  "colab": {
   "collapsed_sections": [],
   "name": "03-Numpy-Lab-CA",
   "provenance": [],
   "version": "0.3.2"
  },
  "kernelspec": {
   "display_name": "Python 3 (ipykernel)",
   "language": "python",
   "name": "python3"
  },
  "language_info": {
   "codemirror_mode": {
    "name": "ipython",
    "version": 3
   },
   "file_extension": ".py",
   "mimetype": "text/x-python",
   "name": "python",
   "nbconvert_exporter": "python",
   "pygments_lexer": "ipython3",
   "version": "3.9.16"
  }
 },
 "nbformat": 4,
 "nbformat_minor": 4
}
