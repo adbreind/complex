{
 "cells": [
  {
   "cell_type": "markdown",
   "id": "a861fa46-c868-422f-9e41-9f02a8e47783",
   "metadata": {},
   "source": [
    "# Wrapup\n",
    "\n",
    "Over the past two sessions and numerous interactive activities, we've embarked on a fascinating journey into the realm of complexity science, an interdisciplinary field that explores the behaviors and properties of complex systems and networks. From the outset, we laid the groundwork with foundational principles such as emergence, adaptation, and self-organization. We learned how these principles contribute to the behavior of complex systems, fostering patterns and structures that are more than the sum of their individual components. This set the stage for us to understand why complex systems, often termed as 'systems of systems', exhibit properties that are vastly different and unpredictable from their constituent parts.\n",
    "\n",
    "As we progressed, we discussed various complex systems existing in nature, society, and technology -- these included ecosystems, financial markets, neural networks, social networks, and even the internet itself, examining how complexity science offers unique insights into their behaviors. \n",
    "\n",
    "We delved into computational modeling and simulation techniques such as cellular automata, agent-based models, and network analysis, which enabled us to investigate and visualize the dynamics of these systems, including phenomena like phase transitions, power laws, and the edge of chaos.\n",
    "\n",
    "We've even touched (if lightly) on the principles and applications of complexity science to challenges facing humanity such as climate change, public health, and societal resilience. We learned that by understanding the interconnected, adaptive, and emergent nature of these issues, complexity science can inform more effective, sustainable, and equitable solutions.\n",
    "\n",
    "### Some questions to consider moving forward\n",
    "\n",
    "* How can complexity science reshape our approach towards solving global challenges like climate change or pandemics?\n",
    "* In what ways can our understanding of emergent behaviors inform the design of more resilient and sustainable systems, whether they be cities, economies, or ecosystems?\n",
    "* How might new advancements in computation and data science further expand our capabilities to model and understand complex systems?\n",
    "\n",
    "### Final thoughts\n",
    "\n",
    "If you have gained from our work together, I invite you to explore this expanding field of knowledge, which continually intersects with other disciplines, from physics to sociology, biology to computer science. The principles and insights of complexity can be applied to almost any realm we find ourselves in, so it is likely worthwhile to continue exploring, questioning, and applying what you've learned. \n",
    "\n",
    "Regardless of your principal interests and focus -- personald and professional -- consider that complexity science provides a powerful lens through which we can make sense of our interconnected world."
   ]
  },
  {
   "cell_type": "markdown",
   "id": "8a9193ec-26ab-4c00-98b9-75b0a697a882",
   "metadata": {},
   "source": [
    "### Some resources\n",
    "\n",
    "#### Books\n",
    "\n",
    "These books are generally accessible (i.e., not scientific publications)\n",
    "\n",
    "* \"Complexity: A Guided Tour\" by Melanie Mitchell\n",
    "* \"Scale: The Universal Laws of Life, Growth, and Death in Organisms, Cities, and Companies\" by Geoffrey West\n",
    "* \"Complexity and the Economy\" by W. Brian Arthur\n",
    "* \"The Quark and the Jaguar: Adventures in the Simple and the Complex\" by Murray Gell-Mann\n",
    "* \"Complex Adaptive Systems: An Introduction to Computational Models of Social Life\" by John H. Miller and Scott E. Page\n",
    "* \"What Is a Complex System?\" by James Ladyman and Karoline Wiesner\n",
    "\n",
    "#### Videos\n",
    "\n",
    "* Complexity Explorer Lecture: David Krakauer • What is Complexity? https://www.youtube.com/watch?&v=FBkFu1g5PlE\n",
    "* Could One Physics Theory Unlock the Mysteries of the Brain? https://www.youtube.com/watch?v=hjGFp7lMi9A\n",
    "* Complex systems & networks: A historical overview + 4 key ideas https://videopress.com/v/oLdj0PQX\n",
    "* Ergodicity TV https://www.youtube.com/channel/UCJG8N5P1RFX29JTKt_6R21A\n",
    "\n",
    "#### Interactive Sites\n",
    "\n",
    "* Complexity explained https://complexityexplained.github.io/\n",
    "* Complexity explorer https://www.complexityexplorer.org/\n",
    "\n",
    "#### Podcasts\n",
    "\n",
    "* Complexity (SFI) https://complexity.simplecast.com/episodes\n",
    "* Simplifying Complexity (Brady Heywood) https://podcasts.apple.com/us/podcast/simplifying-complexity/id1651582236\n",
    "\n",
    "#### Institutions\n",
    "\n",
    "*The Santa Fe Institute is likely the premier institution worldwide with programs and faculty to match: https://www.santafe.edu/*\n",
    "\n",
    "Beyond SFI, some additional major institutions include\n",
    "\n",
    "* Complexity Science Hub Vienna, Austria: This research institution is dedicated to uncovering, describing, and solving complex problems in society. Their work includes an interdisciplinary blend of network science, data science, social sciences, and complexity theory.\n",
    "\n",
    "* Max Planck Institute for Dynamics and Self-Organization, Germany: This institute focuses on the study of dynamic and self-organizing systems across a range of research areas, from fluid dynamics to biological physics, making it a key player in the field of complexity science.\n",
    "\n",
    "There are numerous additional programs and institutions beyond these, which all have some great work to offer."
   ]
  },
  {
   "cell_type": "code",
   "execution_count": null,
   "id": "0bed8ff8-d735-41ab-ad29-dbf6b064715b",
   "metadata": {},
   "outputs": [],
   "source": []
  }
 ],
 "metadata": {
  "kernelspec": {
   "display_name": "Python 3 (ipykernel)",
   "language": "python",
   "name": "python3"
  },
  "language_info": {
   "codemirror_mode": {
    "name": "ipython",
    "version": 3
   },
   "file_extension": ".py",
   "mimetype": "text/x-python",
   "name": "python",
   "nbconvert_exporter": "python",
   "pygments_lexer": "ipython3",
   "version": "3.9.16"
  }
 },
 "nbformat": 4,
 "nbformat_minor": 5
}
