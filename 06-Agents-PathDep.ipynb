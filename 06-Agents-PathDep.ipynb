{
 "cells": [
  {
   "cell_type": "markdown",
   "id": "5523a44b-08c4-4758-bf86-640032f062a7",
   "metadata": {},
   "source": [
    "# Agent-based models and path dependency\n",
    "\n",
    "## Agent-based models\n",
    "\n",
    "Another kind of generative or simulation-based model which can offer insights into the dynamics of complexity is the agent-based model.\n",
    "\n",
    "* An agent-based model is just a simulation of a number of agents (a bit like imaginary characters) who act according to some rule in an environment that also features some rule.\n",
    "\n",
    "* Simple agent-based models are sometimes associated with automata because they are often implemented in simplified \"world\" akin to those of classic cellular automata like Conway's Game of Life.\n",
    "    * But there are a variety of more complex approaches to agent-based models ... they need not be simple, deterministic, nor discrete and they can have sophisticated rules."
   ]
  },
  {
   "cell_type": "markdown",
   "id": "3a65f8be-b888-4d9f-9d7c-44375d6bd9a4",
   "metadata": {},
   "source": [
    "### Using agent-based models\n",
    "\n",
    "Although it might be tempting to jump into complex agent-based models, there are good reasons to work with a minimal model, such as explainability and calibration.\n",
    "\n",
    "We can borrow the automaton idea -- and substitute rules that we would like to investigate -- to see if our rules lead to favorable outcomes. With an experimental platform like this, we can then adjust our rules in the hope of creating different outcomes."
   ]
  },
  {
   "cell_type": "markdown",
   "id": "ea4a7316-30d2-40e7-8601-e5db24db11cd",
   "metadata": {},
   "source": [
    "### Schelling Segregation Model\n",
    "\n",
    "To get a feel for how this approach might be informative, we'll look at one of the earliest and most famous agent-based models: the __Schelling Segregation Model__\n",
    "\n",
    "Allen Downey summarizes this model/thought experiment brilliantly in his book *Think Complexity*:\n",
    "\n",
    "> The Schelling model of the world is a grid where each cell represents a house. The houses are occupied by two kinds of agents, labeled red and blue, in roughly equal numbers. About 10% of the houses are empty.\n",
    ">\n",
    "> At any point in time, an agent might be happy or unhappy, depending on the other agents in the neighborhood, where the “neighborhood\" of each house is the set of eight adjacent cells. In one version of the model, agents are happy if they have at least two neighbors like themselves, and unhappy if they have one or zero.\n",
    ">\n",
    "> The simulation proceeds by choosing an agent at random and checking to see whether they are happy. If so, nothing happens; if not, the agent chooses one of the unoccupied cells at random and moves.\n",
    ">\n",
    "> You will not be surprised to hear that this model leads to some segregation, but you might be surprised by the degree. From a random starting point, clusters of similar agents form almost immediately. The clusters grow and coalesce over time until there are a small number of large clusters and most agents live in homogeneous neighborhoods.\n",
    ">\n",
    "> If you did not know the process and only saw the result, you might assume that the agents were racist, but in fact all of them would be perfectly happy in a mixed neighborhood.\n",
    "\n",
    "Let's implement this model to see\n",
    "* what a simple agent-based model implementation looks like\n",
    "* how the \"homophily index,\" or fraction of similar neighbors required for happiness, affects the overall segregation of the grid"
   ]
  },
  {
   "cell_type": "code",
   "execution_count": null,
   "id": "9cf7c303-fd83-48bd-a322-cc0f54b990a1",
   "metadata": {},
   "outputs": [],
   "source": [
    "size = 15\n",
    "homophily_index = 0.3"
   ]
  },
  {
   "cell_type": "code",
   "execution_count": null,
   "id": "47ad213c-0cff-4038-8505-1c5f9b3d0c20",
   "metadata": {},
   "outputs": [],
   "source": [
    "def make_grid(size):\n",
    "    grid = np.random.uniform(0, 1, (size,size))\n",
    "    grid[grid>0.55] = 1\n",
    "    grid[grid<0.45] = 2\n",
    "    grid[grid<1]=0\n",
    "    return grid\n",
    "\n",
    "grid = make_grid(size)\n",
    "grid"
   ]
  },
  {
   "cell_type": "code",
   "execution_count": null,
   "id": "6269549f-be86-4145-81c8-198d45ac569d",
   "metadata": {},
   "outputs": [],
   "source": [
    "plt.magma()\n",
    "plt.imshow(grid)\n",
    "plt.colorbar()"
   ]
  },
  {
   "cell_type": "code",
   "execution_count": null,
   "id": "76598599-068b-4f27-807c-c80ec22c7313",
   "metadata": {},
   "outputs": [],
   "source": [
    "np.argwhere(grid==0)"
   ]
  },
  {
   "cell_type": "code",
   "execution_count": null,
   "id": "7b8ec2fa-90cc-4a48-846d-926ee5c458d6",
   "metadata": {},
   "outputs": [],
   "source": [
    "import random\n",
    "\n",
    "def pick_random_agent(grid):\n",
    "    agent_locations = np.argwhere(grid != 0)\n",
    "    loc_index = random.randint(0, agent_locations.shape[0]-1)\n",
    "    return (agent_locations[loc_index][0], agent_locations[loc_index][1])\n",
    "\n",
    "def pick_empty_loc(grid):\n",
    "    empty_locations = np.argwhere(grid == 0)\n",
    "    loc_index = random.randint(0, empty_locations.shape[0]-1)\n",
    "    return (empty_locations[loc_index][0], empty_locations[loc_index][1])"
   ]
  },
  {
   "cell_type": "code",
   "execution_count": null,
   "id": "2bf9efe2-bee9-4520-9f10-fe579d430dd5",
   "metadata": {},
   "outputs": [],
   "source": [
    "agent = pick_random_agent(grid)\n",
    "agent"
   ]
  },
  {
   "cell_type": "code",
   "execution_count": null,
   "id": "1978d449-bfa6-4605-8b3d-18b397fa1c03",
   "metadata": {},
   "outputs": [],
   "source": [
    "agent_group = grid[agent[0], agent[1]]\n",
    "agent_group"
   ]
  },
  {
   "cell_type": "code",
   "execution_count": null,
   "id": "90b6b6ef-7e18-4104-ba34-243c3f3b9933",
   "metadata": {},
   "outputs": [],
   "source": [
    "neighborhood = grid[agent[0]-1:agent[0]+2, agent[1]-1:agent[1]+2]\n",
    "neighborhood"
   ]
  },
  {
   "cell_type": "code",
   "execution_count": null,
   "id": "df8d68aa-a043-46da-89d8-b4f8c49ef971",
   "metadata": {},
   "outputs": [],
   "source": [
    "similar_neighbors_locs = (neighborhood == agent_group)\n",
    "similar_neighbors_locs"
   ]
  },
  {
   "cell_type": "code",
   "execution_count": null,
   "id": "50734ec2-d171-44e0-964a-f50999c76556",
   "metadata": {},
   "outputs": [],
   "source": [
    "similar_neighbors = similar_neighbors_locs.sum() - 1\n",
    "similar_neighbors"
   ]
  },
  {
   "cell_type": "code",
   "execution_count": null,
   "id": "0002064b-3e5e-4b2f-bc73-0e71b48d782b",
   "metadata": {},
   "outputs": [],
   "source": [
    "def do_update(grid):\n",
    "    agent = pick_random_agent(grid)\n",
    "    agent_group = grid[agent[0], agent[1]]\n",
    "    neighborhood = grid[agent[0]-1:agent[0]+2, agent[1]-1:agent[1]+2]\n",
    "    similar_neighbors = (neighborhood == agent_group).sum() - 1\n",
    "    is_happy = (similar_neighbors / 8) > homophily_index\n",
    "    if not is_happy:\n",
    "        new_loc = pick_empty_loc(grid)\n",
    "        grid[agent[0], agent[1]] = 0\n",
    "        grid[new_loc[0], new_loc[1]] = agent_group"
   ]
  },
  {
   "cell_type": "code",
   "execution_count": null,
   "id": "d1775367-0539-424c-8f0f-c0a0fe0e5574",
   "metadata": {},
   "outputs": [],
   "source": [
    "plt.imshow(grid)"
   ]
  },
  {
   "cell_type": "code",
   "execution_count": null,
   "id": "e555176c-82b0-4d16-b465-ce73ed6c915f",
   "metadata": {},
   "outputs": [],
   "source": [
    "for i in range(10 * size**2):\n",
    "    do_update(grid)\n",
    "    \n",
    "plt.imshow(grid)"
   ]
  },
  {
   "cell_type": "code",
   "execution_count": null,
   "id": "5c892e30-9e19-428d-96f1-a16d0e6e981e",
   "metadata": {},
   "outputs": [],
   "source": [
    "size = 100\n",
    "\n",
    "grid = make_grid(size)\n",
    "plt.imshow(grid)"
   ]
  },
  {
   "cell_type": "code",
   "execution_count": null,
   "id": "edc3ef31-59e5-48f7-a25b-b3ab8f7d1052",
   "metadata": {},
   "outputs": [],
   "source": [
    "for i in range(2 * size**2):\n",
    "    do_update(grid)\n",
    "    \n",
    "plt.imshow(grid)"
   ]
  },
  {
   "cell_type": "code",
   "execution_count": null,
   "id": "7bde5547-a4da-43bb-adc3-47fc2817744f",
   "metadata": {},
   "outputs": [],
   "source": [
    "for i in range(2 * size**2):\n",
    "    do_update(grid)\n",
    "    \n",
    "plt.imshow(grid)"
   ]
  },
  {
   "cell_type": "code",
   "execution_count": null,
   "id": "40a38e9e-d89c-4ad2-81b3-d558dbd0df6b",
   "metadata": {},
   "outputs": [],
   "source": [
    "for i in range(2 * size**2):\n",
    "    do_update(grid)\n",
    "    \n",
    "plt.imshow(grid)"
   ]
  },
  {
   "cell_type": "code",
   "execution_count": null,
   "id": "10e237f9-2a79-44e2-af86-e94efe6d13c5",
   "metadata": {},
   "outputs": [],
   "source": [
    "homophily_index = 0.4\n",
    "\n",
    "size = 100\n",
    "\n",
    "grid = make_grid(size)\n",
    "plt.imshow(grid)"
   ]
  },
  {
   "cell_type": "code",
   "execution_count": null,
   "id": "f40f9c4d-04de-444f-962d-a6926e146d18",
   "metadata": {},
   "outputs": [],
   "source": [
    "for i in range(4 * size**2):\n",
    "    do_update(grid)\n",
    "    \n",
    "plt.imshow(grid)"
   ]
  },
  {
   "cell_type": "markdown",
   "id": "5614af34-d684-4b49-ba02-b8f30c6c939b",
   "metadata": {},
   "source": [
    "It would be interesting to plot the homophily index vs. the number of iterations before a particular segregation level is met, but that is a bit beyond what we have time for today."
   ]
  },
  {
   "cell_type": "markdown",
   "id": "0e3e330a-ae44-4e49-8d9e-43a24b3836f2",
   "metadata": {},
   "source": [
    "### Takeaway\n",
    "\n",
    "What are some takeaways from this experiment?\n",
    "\n",
    "We can test hypotheses which may be critical to real-world phenomena within a highly artificial \"small world\" and still learn critical insights.\n",
    "\n",
    "* For example, we might want to test the following hypothesis:\n",
    "    * \"Modest homophily values like 30% are insufficient to generate segregation -- something else is necessary.\"\n",
    "    * *We can see that the hypothesis is clearly false.*\n",
    "\n",
    "Of course, the model cannot tell you how to manage your society, business, or project. But it can provide indicators you can use when designing for target outcomes."
   ]
  },
  {
   "cell_type": "markdown",
   "id": "3318f39f-0b17-47ee-9b57-c67f235b3b1d",
   "metadata": {},
   "source": [
    "### More recent research\n",
    "\n",
    "__Joshua Epstein and Agent Zero__\n",
    "\n",
    "Since then, numerous researchers have used ABMs to explore a wide range of phenomena.\n",
    "\n",
    "In *Agent_Zero: Toward Neurocognitive Foundations for Generative Social Science*, Joshua Epstein introduces a new theoretical agent called Agent Zero, which is an attempt to ground social science in neurocognitive processes. Epstein's work focuses on creating computational models that can generate a wide array of social phenomena. Some of the phenomena that Epstein generates and discusses in the book include how\n",
    "* a jury can unanimously vote to convict when only a minority of participants believe the defendant is guilty\n",
    "* diversity in \"trigger points\" can make a mob more likely to turn violent\n",
    "* soldiers can become susceptible to committing mass killings and other atrocities\n",
    "\n",
    "Book: https://press.princeton.edu/books/hardcover/9780691158884/agentzero\n",
    "\n",
    "Online models (will likely not make sense until after reading the book): http://modelingcommons.org/browse/one_model/5982#model_tabs_browse_info\n",
    "\n",
    "__Stefanie Crabtree__\n",
    "\n",
    "\n",
    "\n",
    "https://stefanicrabtree.com/agent-based-modeling-work/"
   ]
  },
  {
   "cell_type": "markdown",
   "id": "1219f8e7-b331-4ef4-b467-d1bf12b22d82",
   "metadata": {},
   "source": [
    "#### How does this connect to the distributions we talked about earlier?\n",
    "\n",
    "Although it is convenient to formulate and render cellular automata like these in a \"grid world,\" they can actually be interpreted as graphical models, so they are not as far away from networks as they might appear at first. And, as areas of the \"grid\" are assimilated to one factor or another, there are multiplicative effects: for example, in this model, the colored areas (~ 2-dimensional) become overwhelmingly larger than the frontiers (~ 1-dimensional).\n",
    "\n",
    "The homophily model we've looked at here might just as easily describe users of one or another mobile phone or communications platform (in non-geographical cases, the dimensions may represent other aspects of a social or product space) -- so there are definitely applications in business."
   ]
  },
  {
   "cell_type": "markdown",
   "id": "9b3c3e7f-c01e-468b-bb3a-84fd3af48ce7",
   "metadata": {},
   "source": [
    "## Exploring path dependence\n",
    "\n",
    "Simple models may evaluate a distribution of outcomes for an individual, team, firm, or other group over a series of choices.\n",
    "\n",
    "For example, when choosing what product to prioritize for the next quarter, projections might assign probabilities and expected profits to different market scenarios and product choices. A business unit might choose to focus on the product with highest expected profit across the projected business scenarios.\n",
    "\n",
    "However -- as anyone familiar with the consequences of technical debt can tell you -- your next choice is rarely made with a blank-slate starting point. We all have to live with the consequences of our previous choices, and that can change the expected outcome dramatically. \n",
    "\n",
    "* In other words, our outcomes are not purely dependent on a current decision. They are dependent on the path of prior steps in the outcome space.\n",
    "\n",
    "### Simple investment model\n",
    "\n",
    "We'll take a look at a simple investment (or gambling) model which produces reliable positive returns when viewed from the an average (or expectation) perspective, but yields ruinous losses when viewed from the path-dependent perspective of any actual investor (or gambler)\n",
    "\n",
    "__The business proposition__\n",
    "\n",
    "* 50/50 risk of success or failure\n",
    "* Success returns 50 cents on the dollar (i.e., \\\\$1 invested returns \\\\$1.50)\n",
    "* Failure produces a loss of 40 cents (i.e., in the failure scenario, one recoups \\\\$0.60 from each \\\\$1 invested)\n",
    "\n",
    "Traditional expectation:"
   ]
  },
  {
   "cell_type": "code",
   "execution_count": null,
   "id": "4466ed89-9ef8-4af8-b881-c8c4a87c008d",
   "metadata": {},
   "outputs": [],
   "source": [
    "0.5 * 1.5 + 0.5 * 0.60"
   ]
  },
  {
   "cell_type": "markdown",
   "id": "8a8d2718-d04c-41a1-ab36-7ef0298e3f02",
   "metadata": {},
   "source": [
    "We can simulate that to get a better idea of the deviation from the ideal average"
   ]
  },
  {
   "cell_type": "code",
   "execution_count": null,
   "id": "1100027e-28ee-4ba2-a1fb-4f1761376e80",
   "metadata": {},
   "outputs": [],
   "source": [
    "sample_size = range(100, 10000, 100)\n",
    "\n",
    "outcomes = []\n",
    "\n",
    "for i in sample_size:\n",
    "    draws = np.random.uniform(0, 1, (i))\n",
    "    draws[draws > 0.5] = 1.50\n",
    "    draws[draws < 1] = 0.6\n",
    "    outcomes.append(draws.mean())\n",
    "    \n",
    "plt.plot(sample_size, outcomes)"
   ]
  },
  {
   "cell_type": "markdown",
   "id": "b3e533cc-1286-4931-a390-48345dde555d",
   "metadata": {},
   "source": [
    "So it looks like, even for small samples or \"bad luck\" we should do pretty well with this sort of investment.\n",
    "\n",
    "__Ensemble average vs. time average__\n",
    "\n",
    "But this form of average assumes that we start in the same position prior to each investment or bet.\n",
    "\n",
    "* It's a bit like looking at hundreds or thousands of individuals or firms each making one bet. On average, they will (collectively) do well!\n",
    "\n",
    "But let's change our perspective for a moment and look at one individual or firm making a sequence of small bets/investments.\n",
    "\n",
    "* If they make $2n$ investments, we would expect about $n$ to yield the \\\\$1.50 and the other $n$ to yield the \\\\$0.60\n",
    "* So the end result would be $(1.5)^n*(0.6)^n = [(1.5)(0.6)]^n = 0.9^n$\n",
    "\n",
    "Wait ... $0.9^n$ doesn't look very good. In fact, it will go very quickly to zero for any significant $n$\n",
    "\n",
    "Just to be sure, let's simulate this as well:"
   ]
  },
  {
   "cell_type": "code",
   "execution_count": null,
   "id": "0a65dee7-db47-41d6-a594-e2085a38c18c",
   "metadata": {},
   "outputs": [],
   "source": [
    "steps=200\n",
    "simulations=10000\n",
    "draws = np.random.uniform(0, 1, (simulations, steps))\n",
    "draws[draws > 0.5] = 1.50\n",
    "draws[draws < 1] = 0.6\n",
    "outcomes = draws.prod(axis=1)\n",
    "plt.hist(outcomes, bins=100)"
   ]
  },
  {
   "cell_type": "markdown",
   "id": "cc2d7de6-aae5-4b3e-939c-dacf33411785",
   "metadata": {},
   "source": [
    "Just for comparison, our expected value after `steps` investments"
   ]
  },
  {
   "cell_type": "code",
   "execution_count": null,
   "id": "561995be-9885-4881-b4ea-bd3dadc4c2bc",
   "metadata": {},
   "outputs": [],
   "source": [
    "expected = 1.05 ** steps\n",
    "expected"
   ]
  },
  {
   "cell_type": "code",
   "execution_count": null,
   "id": "0c9818f1-eacf-4016-bc87-06c4de8f65be",
   "metadata": {},
   "outputs": [],
   "source": [
    "outcomes[outcomes < 0.1].size / simulations"
   ]
  },
  {
   "cell_type": "code",
   "execution_count": null,
   "id": "a9153ad5-a318-419e-8617-e48198bdb0d0",
   "metadata": {},
   "outputs": [],
   "source": [
    "outcomes[outcomes < 1].size / simulations"
   ]
  },
  {
   "cell_type": "code",
   "execution_count": null,
   "id": "41cd7301-8549-4d6d-bf74-83f31446dad3",
   "metadata": {},
   "outputs": [],
   "source": [
    "outcomes[outcomes > 2].size / simulations"
   ]
  },
  {
   "cell_type": "code",
   "execution_count": null,
   "id": "a0b34b1d-08db-4248-b868-cf2e30884e42",
   "metadata": {},
   "outputs": [],
   "source": [
    "outcomes[outcomes >= expected].size / simulations"
   ]
  },
  {
   "cell_type": "markdown",
   "id": "8f63863d-78b9-44fb-a353-a9f2dfc760a4",
   "metadata": {},
   "source": [
    "__A dramatic view of the \"lifelines\" of a number of agents facing a similar set of options__\n",
    "\n",
    "<img src='images/ergo.webp' width=700>\n",
    "\n",
    "From: https://www.nature.com/articles/s41567-019-0732-0\n",
    "\n",
    "#### Takeaway\n",
    "\n",
    "When does this occur in real life?\n",
    "\n",
    "Although our specific numbers in the present example are contrived, path dependence is a critical factor in many real-world systems:\n",
    "* economic actors\n",
    "* health outcomes\n",
    "* hiring and promotion\n",
    "* education\n",
    "* criminal justice\n",
    "* participation in risk-taking and investment activities\n",
    "\n",
    "__How does this connect to the distributions and patterns we've been talking about?__\n",
    "\n",
    "Notice that, in the path-dependent case,\n",
    "* we have a *series of multiplied values which are not independent*\n",
    "    * (since each multiplication is  dependent on prior state) \n",
    "* where, in the ensemble expectation, we *assumed* that all of the events (values being multiplied) are independent\n",
    "    * (they only depend on the \"rules of the game\" -- every trial starts with 1 dollar)\n",
    "    \n",
    "Once again, we see a compounding effect leading to drastically large (or small) numbers. \n",
    "\n",
    "A concrete example is insurance pools. A sufficiently large and diverse business can \"self insure\" anything from employee health costs to its own fleet of vehicles. Such self insurance can work, provided the losses are independent enough that the ensemble average holds.\n",
    "\n",
    "If a company's employees were all concentrated in an area with common health hazards (say, contaminated air or ground water) then the sequence of repeated of heath-cost losses would not be independent -- risk would be magnified as health losses compound over time.\n",
    "\n",
    "__How do we use this knowledge?__\n",
    "\n",
    "Any time we are looking to achieve an \"average\" result over time, we can ask whether the steps are truly independent. As a technology example, we may have a device that we deploy in the field which features high uptime (time between failures). \n",
    "* To achieve long-term reliability, we want to ensure that the device is as stateless as possible when it recovers\n",
    "* If a device retains state (e.g., internal storage or config) which affect its future success (after recovering from a failure) then the sequence of failures becomes path dependent"
   ]
  }
 ],
 "metadata": {
  "kernelspec": {
   "display_name": "Python 3 (ipykernel)",
   "language": "python",
   "name": "python3"
  },
  "language_info": {
   "codemirror_mode": {
    "name": "ipython",
    "version": 3
   },
   "file_extension": ".py",
   "mimetype": "text/x-python",
   "name": "python",
   "nbconvert_exporter": "python",
   "pygments_lexer": "ipython3",
   "version": "3.9.16"
  }
 },
 "nbformat": 4,
 "nbformat_minor": 5
}
