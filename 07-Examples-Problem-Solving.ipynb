{
 "cells": [
  {
   "cell_type": "markdown",
   "metadata": {},
   "source": [
    "# Example systems and approaches to problem solving under complexity\n",
    "\n",
    "We should now have a vocabulary around systems which lets us better see and articulate difficult characteristics of some familiar phenomena...\n",
    "\n",
    "Let's take a few minutes and try to use some of our modeling approaches to think and talk about...\n",
    "\n",
    "* Risks in the financial system, such as the collapse of Silicon Valley Bank\n",
    "\n",
    "* Tech platform success and failure, such as the success of iOS or of Python\n",
    "\n",
    "* Hiring and promotion, such as the dynamics of tech jobs in the last decasde, especially at big firms\n",
    "\n"
   ]
  },
  {
   "cell_type": "markdown",
   "metadata": {},
   "source": [
    "## Problem solving approaches\n",
    "\n",
    "As in many situations, the initial challenge is *learning to look for complexity and becoming able to see and articulate it*\n",
    "\n",
    "Once we've identified the potential risks and challenges, we may look for mitigation strategies.\n",
    "\n",
    "We'll explore a number of mitigation strategies here -- some of which are quite counterintuitive."
   ]
  },
  {
   "cell_type": "markdown",
   "metadata": {},
   "source": [
    "### Weaken Links in Highly Coupled Systems\n",
    "\n",
    "Multiplicative, network effects thrive on tight coupling which encourages propagation and acceleration.\n",
    "\n",
    "If we weaken links in coupled systems, we make events more independent, lowering the likelihood of producing extreme outcomes.\n",
    "\n",
    "__Common link-weakening approach: add delay__\n",
    "\n",
    "Adding delays or friction can lower the coupling of a system and lower path dependence\n",
    "\n",
    "* Traffic metering lights on the freeway\n",
    "* Waiting periods for gun purchases\n",
    "* Cooling off periods for major purchases \n",
    "* Small transaction tax (friction) to attenuate high-frequency trading impacts on the market"
   ]
  },
  {
   "cell_type": "markdown",
   "metadata": {},
   "source": [
    "### Synthetic linearity\n",
    "\n",
    "We've seen that non-linear systems are harder to reason about, respond to, and control.\n",
    "\n",
    "Some non-linear patterns (like the interactions that lead to civil unrest) are, by definition, hard or impossible to see, control, and re-shape earlier in their history.\n",
    "\n",
    "But many man-made systems can be \"linearized\" with suitable planning.\n",
    "* Rate of turn for roadways\n",
    "    * Easy, safer to navigate roadways include more linear-rate (by angle) changes in direction\n",
    "    * Highly nonlinear curve rates are fun -- and may keep you awake for a while -- but are fatiguing and more prone to driver error\n",
    "    * Good road engineering strives to linearize the actions a driver has to take\n",
    "* Vehicle controls\n",
    "    * Using gearing, rigging, or drive/fly-by-wire approaches, we can make a car or aircraft respond \"as if\" its attitude is a linear function of control inputs -- even when the underlying physics is nonlinear\n",
    "    * Modern jet fighter aircraft implement extreme versions of this linearization to allow a human to control an unstable aircraft moving faster than the speed of sound\n",
    "\n",
    "__What if the ultimate response function needs to be nonlinear (e.g., to accommodate a wider scale)?__\n",
    "\n",
    "Even if \"synthetic\" linearity is not possible, a piecewise linear system with known breakpoints may be possible.\n",
    "\n",
    "<img src='images/piece.png' width=300>\n",
    "\n",
    "Breakpoints would ideally align with human mode or context switches, like shifting gears, or lowering the flaps in an aircraft.\n",
    "\n",
    "This way, the control are linear within each regime and the breaks are learnable and tractable."
   ]
  },
  {
   "cell_type": "markdown",
   "metadata": {},
   "source": [
    "### Lower the Signal-to-Noise Ratio (Really!)\n",
    "\n",
    "Adding noise is one of the more counterintuitive mechanisms for reducing coupling.\n",
    "\n",
    "But, sometimes, a little entropy goes a long way.\n",
    "\n",
    "* The key insight in Robert Metcalfe's *Ethernet* was having agents _randomly delay_ packet resends to avoid collisions\n",
    "    * In this case, the best way to avoid a traffic jam is to randomize, not coordinate\n",
    "* Adding randomness to the display algorithm on a social media feed \n",
    "    * Makes it harder to game/manipulate the algorithm and spread misinformation through the network\n",
    "* Random delays on trade execution\n",
    "    * Inhibit cascades of high-frequency trades\n",
    "    * Limits leverage of HF traders to use winnings to lock in even more winnings, by creating ever faster access to markets (e.g., better buildings, new fiber)"
   ]
  },
  {
   "cell_type": "markdown",
   "metadata": {},
   "source": [
    "### Distribute Decision Making\n",
    "\n",
    "Centralized decision making facilities -- whether a single person, or an office/bureau/group -- inherently produce coupled results.\n",
    "\n",
    "These results are often desirable for their efficiency and coordination, but can be vulnerable as well.\n",
    "\n",
    "Widely distributed decision making leads to less efficient and more organic solutions which can be slower and more expensive, but are often more resilient.\n",
    "\n",
    "Taking fewer interconnected conditions for granted limits the risk in the overall system.\n",
    "\n",
    "* We see this phenomenon throughout biological systems, where organelles, cells, tissues, and organs show both influence of local response as well as central coordination\n",
    "* Local, non-centrally-planned economics has survived across human history, despite some interesting exceptions\n",
    "* Certain car companies famously pioneered production techniques where ideas and direction are sourced from front-line employees, not just executives\n",
    "    * https://hbr.org/2011/06/how-toyota-pulls-improvement-f"
   ]
  },
  {
   "cell_type": "markdown",
   "metadata": {},
   "source": [
    "### The Pre-Mortem\n",
    "\n",
    "> A pre-mortem ... is a managerial strategy in which a project team imagines that a project or organization has failed, and then works backward to determine what potentially could lead to the failure of the project or organization.\n",
    "> https://en.wikipedia.org/wiki/Pre-mortem\n",
    "\n",
    "Surprisingly, it turns out that people are much better about imagining what caused a failure when they take that failure as a given, than they are at imagining future \"possible\" failures. A variety of psychological phenomena may be implicated, but the conclusion is clear: we an elicit better responses be skipping the \"hope for success\" mentality and performing -- at least in an exercise -- a failure analysis.\n",
    "\n",
    "* Just as we graphed out the interrelated challenges of 2020, a team can speculatively consider connections that lead to unintended consequences, runaway second-order effects, etc. while it's still early enough to change plans.\n",
    "\n",
    "### Learning systematically from near misses\n",
    "\n",
    "Another, related, approach for avoiding the risk of compounded failure is to take a positive attitude toward near misses and to systematically learn from them.\n",
    "\n",
    "* NASA's Aviation Safety Reporting System (ASRS) -- https://asrs.arc.nasa.gov/ -- has been incredibly effective at improving air safety.\n",
    "\n",
    "Most aviation failures are considered to result not from one isolated occurrence but from an \"accident chain\" of at least 3 mistakes. \"Breaking the chain\" by avoiding any of those mistakes leads to a safe, successful mission instead of an accident.\n",
    "\n",
    "Rather than shaming or threatening pilots, controllers, and mechanics when mistakes are made, the ASRS system offers partial immunity to participants in the aviation system who report their own near misses. Many ASRS reports have led to changes in the aviation system saving thousands of lives. Some are even published (anonymously) in the NASA's ASRS Callback report https://asrs.arc.nasa.gov/publications/callback.html\n",
    "\n",
    "Find the links. Break the links."
   ]
  },
  {
   "cell_type": "markdown",
   "metadata": {},
   "source": [
    "### Resetting Paths\n",
    "\n",
    "Sometimes path-dependent systems can be restored to (or moved toward) the ensemble average by intervening to reset paths.\n",
    "\n",
    "Concretely, the state of one or more agents is either \n",
    "* reset to a value\n",
    "* prevented from exceeding a range\n",
    "\n",
    "We've seen one example: configuring deployed tech devices like servers, security cameras, or printers to restart with clean state, so that previous anomalies don't make future ones more likely.\n",
    "\n",
    "Other examples of path resetting include:\n",
    "* inheritance taxes to limit the compounding inequality of wealth across generations\n",
    "* welfare benefits which kick in at specific levels to limit downward spiral of poverty\n",
    "* accelerating penalties for offenses like DUI to slow/stop the harm of habitual drunk drivers\n",
    "* hard salary ranges for roles to limit accumulating pay disparities among co-workers in similar jobs\n",
    "* breakup of monopoly firms (or prevention of mergers) to limit market concentration\n",
    "\n"
   ]
  },
  {
   "cell_type": "code",
   "execution_count": null,
   "metadata": {},
   "outputs": [],
   "source": []
  }
 ],
 "metadata": {
  "kernelspec": {
   "display_name": "Python 3 (ipykernel)",
   "language": "python",
   "name": "python3"
  },
  "language_info": {
   "codemirror_mode": {
    "name": "ipython",
    "version": 3
   },
   "file_extension": ".py",
   "mimetype": "text/x-python",
   "name": "python",
   "nbconvert_exporter": "python",
   "pygments_lexer": "ipython3",
   "version": "3.9.16"
  }
 },
 "nbformat": 4,
 "nbformat_minor": 4
}
