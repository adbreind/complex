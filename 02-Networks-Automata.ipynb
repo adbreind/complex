{
 "cells": [
  {
   "cell_type": "markdown",
   "metadata": {},
   "source": [
    "# Exploring Some Complex System Dynamics\n",
    "\n",
    "We want to understand and draw actionable conclusions about some of these systems. Moreover, we want to do so \n",
    "* beforehand (i.e., knowledge about an impending financial crisis is better than observations while it's happening)\n",
    "* in an actionable way (a plan to avoid or mitigate the crisis is more useful than a mere forecast of its occurrence)\n",
    "\n",
    "In many cases, we observe phase-changes or other specific outcomes in similar systems, and we want to inspect the conditions under which we can avoid (or encourage) these outcomes in our own systems.\n",
    "\n",
    "## Generative models and simulations\n",
    "\n",
    "A key mechanism for investigating complex dynamics is a __generative model__.\n",
    "\n",
    "Generative models are mathematical models, typically implemented via computation, which can yield information about some aspects of a system. So they are, in a way, machine learning models. But they are different from the most common, predictive ML models, that look at a set of outcomes (data) and try to predict future results (next quarter's sales) or more general results (transcribing speech).\n",
    "\n",
    "> Generative models posit some __data generating process__ which may be similar to the dynamics in our systems.\n",
    "\n",
    "The models -- also called simulations -- can then produce lots of outcomes based on some initial parameters and the data generating process. \n",
    "\n",
    "By looking at the process, the parameters, and the outcomes, we can learn about the behavior of such a system as parameters are changed.\n",
    "\n",
    "We can then become aware of risks or opportunities that might otherwise be hidden."
   ]
  },
  {
   "cell_type": "markdown",
   "metadata": {},
   "source": [
    "## Some key systems models\n",
    "\n",
    "Today, we'll look at a few classes of models that can reveal some of the challenging dynamics of complexity.\n",
    "\n",
    "We'll take a look at ...\n",
    "* network models\n",
    "* automata\n",
    "\n",
    "Next time we'll look at\n",
    "* agent-based models\n",
    "* path dependence\n",
    "\n",
    "along with examples where they might apply."
   ]
  },
  {
   "cell_type": "markdown",
   "metadata": {},
   "source": [
    "## Network models\n",
    "\n",
    "Many processes exhibit the consequences of network effects. These include both natural and social systems, including business systems.\n",
    "\n",
    "We may want to exploit network effects to\n",
    "* generate sales\n",
    "* dominate/control a product category\n",
    "* spread positive sentiment around our product or firm\n",
    "\n",
    "Conversely we may want to avoid or disrupt network effects to\n",
    "* lower systemic risks (\"domino effect\" cascading failures)\n",
    "* protect intellectual property (limiting the spread of illicit use)\n",
    "* protect secrets and first-mover advantage\n",
    "\n",
    "But not every network exhibits the massive spread we may want to encourage or avoid.\n",
    "\n",
    "__We can experiment on synthetic networks and learn critical dynamics__"
   ]
  },
  {
   "cell_type": "markdown",
   "metadata": {},
   "source": [
    "### Erdos-Renyi Graphs\n",
    "\n",
    "We can think of our scenario of interest as a graph:\n",
    "* a set of nodes, which might represents individuals or firms,\n",
    "* and a set edges connecting pairs of nodes, which might represent communications, transactions, or business relationships.\n",
    "\n",
    "The Erdos-Renyi model (Paul Erdős, Alfréd Rényi, Edgar Gilbert, separate work ~1959) considers a family of graphs that contain some fixed number of nodes __n__ and some fixed probability __p__ that any two nodes are connected.\n",
    "\n",
    "This is a simplistic model, but it produces interesting behavior.\n",
    "\n",
    "If __p__ is close to zero, we can easily imagine that the graph is unlikely to be __connected__ or provide some route between all pairs of nodes.\n",
    "\n",
    "On the other hand, if __p__ is close to one, it is not surprising that the graph ends up connected.\n",
    "\n",
    "In between, things get interesting. Let's take a quick look at how the probability of an E-R graph being connected varies as __p__ changes.\n",
    "\n",
    "How do we do this?\n",
    "\n",
    "The easiest way to explore this -- and a mechanism I recommend because it works even when other methods are intractable or deeply complicated -- is to simulate the system and count outcomes."
   ]
  },
  {
   "cell_type": "code",
   "execution_count": null,
   "metadata": {},
   "outputs": [],
   "source": [
    "import networkx as nx\n",
    "import numpy as np\n",
    "\n",
    "def make_er_graph(n, p):\n",
    "    G = nx.Graph()\n",
    "    nodes = range(n)\n",
    "    G.add_nodes_from(nodes)\n",
    "    G.add_edges_from( (i, j) for i in nodes for j in nodes if  i > j and np.random.random() < p )\n",
    "    return G\n",
    "\n",
    "g = make_er_graph(20, 0.1)\n",
    "nx.draw(g)"
   ]
  },
  {
   "cell_type": "code",
   "execution_count": null,
   "metadata": {},
   "outputs": [],
   "source": [
    "nx.is_connected(g)"
   ]
  },
  {
   "cell_type": "code",
   "execution_count": null,
   "metadata": {},
   "outputs": [],
   "source": [
    "g1 = make_er_graph(20, 0.5)\n",
    "nx.draw(g1)"
   ]
  },
  {
   "cell_type": "code",
   "execution_count": null,
   "metadata": {},
   "outputs": [],
   "source": [
    "nx.is_connected(g1)"
   ]
  },
  {
   "cell_type": "code",
   "execution_count": null,
   "metadata": {},
   "outputs": [],
   "source": [
    "def test_connectivity_for_random_graph(n, p):\n",
    "    return nx.is_connected(make_er_graph(n, p))\n",
    "\n",
    "def prob_connected(n, p, samples):\n",
    "    return sum( (test_connectivity_for_random_graph(n, p) for i in range(samples)) ) / samples\n",
    "\n",
    "prob_connected(20, 0.2, 100)"
   ]
  },
  {
   "cell_type": "code",
   "execution_count": null,
   "metadata": {},
   "outputs": [],
   "source": [
    "from matplotlib import pyplot as plt\n",
    "\n",
    "n = 8\n",
    "samples = 200\n",
    "edge_probs = np.linspace(0, 1, 20)\n",
    "connectivity_probs = [prob_connected(n, p, samples) for p in edge_probs]\n",
    "\n",
    "plt.plot(edge_probs, connectivity_probs)"
   ]
  },
  {
   "cell_type": "markdown",
   "metadata": {},
   "source": [
    "One interesting phenomenon is that this transition point becomes more sudden as the graph grows"
   ]
  },
  {
   "cell_type": "code",
   "execution_count": null,
   "metadata": {},
   "outputs": [],
   "source": [
    "n = 20\n",
    "connectivity_probs = [prob_connected(n, p, samples) for p in edge_probs]\n",
    "\n",
    "plt.plot(edge_probs, connectivity_probs)"
   ]
  },
  {
   "cell_type": "code",
   "execution_count": null,
   "metadata": {},
   "outputs": [],
   "source": [
    "n = 40\n",
    "connectivity_probs = [prob_connected(n, p, samples) for p in edge_probs]\n",
    "\n",
    "plt.plot(edge_probs, connectivity_probs)"
   ]
  },
  {
   "cell_type": "markdown",
   "metadata": {},
   "source": [
    "Erdos and Renyi discovered that the critical value, at which the connectivity probability quickly transitions from 0 to 1, is $\\frac{log(n)}{n}$\n",
    "\n",
    "That number gets close to zero for large n."
   ]
  },
  {
   "cell_type": "code",
   "execution_count": null,
   "metadata": {},
   "outputs": [],
   "source": [
    "np.log(100)/100"
   ]
  },
  {
   "cell_type": "markdown",
   "metadata": {},
   "source": [
    "### Takeaway\n",
    "\n",
    "What are some takeaways from this experiment?\n",
    "\n",
    "For large graphs with random connections, even a tiny probability of connection will likely connect the whole graph.\n",
    "\n",
    "* This could be a good thing -- if you're spreading the word about your new product, or signing up folks to transact on your new money platform.\n",
    "\n",
    "* But it could also be a terrible thing if the \"message\" being passed is a new virus or a pro-genocide meme.\n",
    "\n",
    "In our experiment, we looked at the effect of connectivity. But we can just as easily fix a connectivity probability and ask about the effect of scaling the graph. \n",
    "\n",
    "Because $\\frac{log(n)}{n}$ gets small as n gets big, we can say that for *any* connectivity probability (above zero), there will be a graph size large enough that it is ~100% likely to be connected.\n",
    "\n",
    "In plain language: we've discovered the math behind the assertion that adding more people (or more anything) to a graph makes it inevitable that anything and everything can spread everywhere.\n",
    "\n",
    "If this is the spread of ...\n",
    "* a lifesaving product or knowledge, we have reason to rejoice\n",
    "* our tech platform product, we had better be careful about unintended consequences of that product, because they can be everywhere\n",
    "* financial instability due to propagated risk (as in 2008), we can see that failure was inevitable with scale\n",
    "\n",
    "__How does this connect to the distributions we talked about earlier?__\n",
    "\n",
    "Highly connected networks mean that when signals (info, memes, viruses, etc.) spread, the transmission is multiplicative (as we've seen with Covid and $R_0$) and, of course, the events are not independent -- they are linked by the relations in the graph. So spread through a network can lead to power-law distributions. Depending on the exponent, these may have fat tails and hide a large number of dramatic surprises that would not be expected from thin-tailed distributions.\n",
    "\n",
    "A great overview of network effects in financial risk is https://papers.ssrn.com/sol3/papers.cfm?abstract_id=3651864\n",
    "\n",
    "#### More is Different\n",
    "\n",
    "This phenomenon -- that \"more is different\" or quantity can become quality -- is the idea behind, and title of, a 1972 paper by Philip Anderson often regarded as inaugurating the study of complex systems: https://science.sciencemag.org/content/177/4047/393\n",
    "\n",
    "Since humans and human institutions are used to linear change, this discovery of mechanisms behind sudden, non-linear change is a key tool in designing the outcomes we want in the world."
   ]
  },
  {
   "cell_type": "code",
   "execution_count": null,
   "metadata": {},
   "outputs": [],
   "source": []
  },
  {
   "cell_type": "code",
   "execution_count": null,
   "metadata": {},
   "outputs": [],
   "source": []
  },
  {
   "cell_type": "code",
   "execution_count": null,
   "metadata": {},
   "outputs": [],
   "source": []
  },
  {
   "cell_type": "code",
   "execution_count": null,
   "metadata": {},
   "outputs": [],
   "source": []
  },
  {
   "cell_type": "markdown",
   "metadata": {},
   "source": [
    "## Automata and agent-based models\n",
    "\n",
    "Another kind of generative or simulation-based model which can offer insights into the dynamics of complexity is the agent-based model.\n",
    "\n",
    "* An agent-based model is just a simulation of a number of agents (a bit like imaginary characters) who act according to some rule in an environment that also features some rule.\n",
    "\n",
    "* Agent-based models are associated with automata because they are often implemented in simplified \"world\" akin to those of classic cellular automata like Conway's Game of Life.\n",
    "\n",
    "Let's take a quick look: https://en.wikipedia.org/wiki/Conway%27s_Game_of_Life\n",
    "\n",
    "The Game of Life is fascinating for numerous reasons, but the one we're focusing on today is another key phenomenon of complex systems, __emergence__.\n",
    "\n",
    "__Emergence__ is another way of describing the manifestation of interesting, potentially surprising, nonlinear outcomes from a simple set of mechanistic rules.\n",
    "\n",
    "Game of Life has a trivial ruleset and a passive environment and gives rise to astonishing complexity."
   ]
  },
  {
   "cell_type": "markdown",
   "metadata": {},
   "source": [
    "### Using agent-based models\n",
    "\n",
    "The rules of \"life\" are interesting but may not be related to any particular real-world system.\n",
    "\n",
    "We can borrow the automaton idea -- and substitute rules that we would like to investigate -- to see if our rules lead to favorable outcomes. With an experimental platform like this, we can then adjust our rules in the hope of creating different outcomes."
   ]
  },
  {
   "cell_type": "markdown",
   "metadata": {},
   "source": [
    "### Schelling Segregation Model\n",
    "\n",
    "To get a feel for how this approach might be informative, we'll look at one of the earliest and most famous agent-based models: the __Schelling Segregation Model__\n",
    "\n",
    "Allen Downey summarizes this model/thought experiment brilliantly in his book *Think Complexity*:\n",
    "\n",
    "> The Schelling model of the world is a grid where each cell represents a house. The houses are occupied by two kinds of agents, labeled red and blue, in roughly equal numbers. About 10% of the houses are empty.\n",
    ">\n",
    "> At any point in time, an agent might be happy or unhappy, depending on the other agents in the neighborhood, where the “neighborhood\" of each house is the set of eight adjacent cells. In one version of the model, agents are happy if they have at least two neighbors like themselves, and unhappy if they have one or zero.\n",
    ">\n",
    "> The simulation proceeds by choosing an agent at random and checking to see whether they are happy. If so, nothing happens; if not, the agent chooses one of the unoccupied cells at random and moves.\n",
    ">\n",
    "> You will not be surprised to hear that this model leads to some segregation, but you might be surprised by the degree. From a random starting point, clusters of similar agents form almost immediately. The clusters grow and coalesce over time until there are a small number of large clusters and most agents live in homogeneous neighborhoods.\n",
    ">\n",
    "> If you did not know the process and only saw the result, you might assume that the agents were racist, but in fact all of them would be perfectly happy in a mixed neighborhood.\n",
    "\n",
    "Let's implement this model to see\n",
    "* what a simple agent-based model implementation looks like\n",
    "* how the \"homophily index,\" or fraction of similar neighbors required for happiness, affects the overall segregation of the grid"
   ]
  },
  {
   "cell_type": "code",
   "execution_count": null,
   "metadata": {},
   "outputs": [],
   "source": [
    "size = 15\n",
    "homophily_index = 0.3"
   ]
  },
  {
   "cell_type": "code",
   "execution_count": null,
   "metadata": {},
   "outputs": [],
   "source": [
    "def make_grid(size):\n",
    "    grid = np.random.uniform(0, 1, (size,size))\n",
    "    grid[grid>0.55] = 1\n",
    "    grid[grid<0.45] = 2\n",
    "    grid[grid<1]=0\n",
    "    return grid\n",
    "\n",
    "grid = make_grid(size)\n",
    "grid"
   ]
  },
  {
   "cell_type": "code",
   "execution_count": null,
   "metadata": {},
   "outputs": [],
   "source": [
    "plt.magma()\n",
    "plt.imshow(grid)\n",
    "plt.colorbar()"
   ]
  },
  {
   "cell_type": "code",
   "execution_count": null,
   "metadata": {},
   "outputs": [],
   "source": [
    "np.argwhere(grid==0)"
   ]
  },
  {
   "cell_type": "code",
   "execution_count": null,
   "metadata": {},
   "outputs": [],
   "source": [
    "import random\n",
    "\n",
    "def pick_random_agent(grid):\n",
    "    agent_locations = np.argwhere(grid != 0)\n",
    "    loc_index = random.randint(0, agent_locations.shape[0]-1)\n",
    "    return (agent_locations[loc_index][0], agent_locations[loc_index][1])\n",
    "\n",
    "def pick_empty_loc(grid):\n",
    "    empty_locations = np.argwhere(grid == 0)\n",
    "    loc_index = random.randint(0, empty_locations.shape[0]-1)\n",
    "    return (empty_locations[loc_index][0], empty_locations[loc_index][1])"
   ]
  },
  {
   "cell_type": "code",
   "execution_count": null,
   "metadata": {},
   "outputs": [],
   "source": [
    "agent = pick_random_agent(grid)\n",
    "agent"
   ]
  },
  {
   "cell_type": "code",
   "execution_count": null,
   "metadata": {},
   "outputs": [],
   "source": [
    "agent_group = grid[agent[0], agent[1]]\n",
    "agent_group"
   ]
  },
  {
   "cell_type": "code",
   "execution_count": null,
   "metadata": {},
   "outputs": [],
   "source": [
    "neighborhood = grid[agent[0]-1:agent[0]+2, agent[1]-1:agent[1]+2]\n",
    "neighborhood"
   ]
  },
  {
   "cell_type": "code",
   "execution_count": null,
   "metadata": {},
   "outputs": [],
   "source": [
    "similar_neighbors_locs = (neighborhood == agent_group)\n",
    "similar_neighbors_locs"
   ]
  },
  {
   "cell_type": "code",
   "execution_count": null,
   "metadata": {},
   "outputs": [],
   "source": [
    "similar_neighbors = similar_neighbors_locs.sum() - 1\n",
    "similar_neighbors"
   ]
  },
  {
   "cell_type": "code",
   "execution_count": null,
   "metadata": {},
   "outputs": [],
   "source": [
    "def do_update(grid):\n",
    "    agent = pick_random_agent(grid)\n",
    "    agent_group = grid[agent[0], agent[1]]\n",
    "    neighborhood = grid[agent[0]-1:agent[0]+2, agent[1]-1:agent[1]+2]\n",
    "    similar_neighbors = (neighborhood == agent_group).sum() - 1\n",
    "    is_happy = (similar_neighbors / 8) > homophily_index\n",
    "    if not is_happy:\n",
    "        new_loc = pick_empty_loc(grid)\n",
    "        grid[agent[0], agent[1]] = 0\n",
    "        grid[new_loc[0], new_loc[1]] = agent_group"
   ]
  },
  {
   "cell_type": "code",
   "execution_count": null,
   "metadata": {},
   "outputs": [],
   "source": [
    "plt.imshow(grid)"
   ]
  },
  {
   "cell_type": "code",
   "execution_count": null,
   "metadata": {},
   "outputs": [],
   "source": [
    "for i in range(10 * size**2):\n",
    "    do_update(grid)\n",
    "    \n",
    "plt.imshow(grid)"
   ]
  },
  {
   "cell_type": "code",
   "execution_count": null,
   "metadata": {},
   "outputs": [],
   "source": [
    "size = 100\n",
    "\n",
    "grid = make_grid(size)\n",
    "plt.imshow(grid)"
   ]
  },
  {
   "cell_type": "code",
   "execution_count": null,
   "metadata": {},
   "outputs": [],
   "source": [
    "for i in range(2 * size**2):\n",
    "    do_update(grid)\n",
    "    \n",
    "plt.imshow(grid)"
   ]
  },
  {
   "cell_type": "code",
   "execution_count": null,
   "metadata": {},
   "outputs": [],
   "source": [
    "for i in range(2 * size**2):\n",
    "    do_update(grid)\n",
    "    \n",
    "plt.imshow(grid)"
   ]
  },
  {
   "cell_type": "code",
   "execution_count": null,
   "metadata": {},
   "outputs": [],
   "source": [
    "for i in range(2 * size**2):\n",
    "    do_update(grid)\n",
    "    \n",
    "plt.imshow(grid)"
   ]
  },
  {
   "cell_type": "code",
   "execution_count": null,
   "metadata": {},
   "outputs": [],
   "source": [
    "homophily_index = 0.4\n",
    "\n",
    "size = 100\n",
    "\n",
    "grid = make_grid(size)\n",
    "plt.imshow(grid)"
   ]
  },
  {
   "cell_type": "code",
   "execution_count": null,
   "metadata": {},
   "outputs": [],
   "source": [
    "for i in range(4 * size**2):\n",
    "    do_update(grid)\n",
    "    \n",
    "plt.imshow(grid)"
   ]
  },
  {
   "cell_type": "markdown",
   "metadata": {},
   "source": [
    "It would be interesting to plot the homophily index vs. the number of iterations before a particular segregation level is met, but that is a bit beyond what we have time for today."
   ]
  },
  {
   "cell_type": "markdown",
   "metadata": {},
   "source": [
    "### Takeaway\n",
    "\n",
    "What are some takeaways from this experiment?\n",
    "\n",
    "We can test hypotheses which may be critical to real-world phenomena within a highly artificial \"small world\" and still learn critical insights.\n",
    "\n",
    "* For example, we might want to test the following hypothesis:\n",
    "    * \"Modest homophily values like 30% are insufficient to generate segregation -- something else is necessary.\"\n",
    "    * *We can see that the hypothesis is clearly false.*\n",
    "\n",
    "Of course, the model cannot tell you how to manage your society, business, or project. But it can provide indicators you can use when designing for target outcomes.\n",
    "\n",
    "#### How widely applicable are these agent-based models?\n",
    "\n",
    "Thomas Schelling, an economist with work in other disciplines as well, published his model in 1969. \n",
    "\n",
    "Since then, numerous researchers have used ABMs to explore a wide range of phenomena.\n",
    "\n",
    "For example, Joshua Epstein has used ABMs to explore how simple rules can explain diverse phenomena in the realm of social contagion including how\n",
    "* a jury can unanimously vote to convict when only a minority of participants believe the defendant is guilty\n",
    "* diversity in \"trigger points\" can make a mob more likely to turn violent\n",
    "* soldiers can become susceptible to committing mass killings and other atrocities\n",
    "\n",
    "If this is interesting to you, check out his book, *Agent_Zero*: https://press.princeton.edu/books/hardcover/9780691158884/agentzero\n",
    "\n",
    "Long in use in the physical sciences, simulation-based modeling has become a lot more popular recently, as larger amounts of compute power and easy-to-use, performant tools (like SciPy/PyData) have become available.\n",
    "\n",
    "For example, ABMs are illuminating areas of macroeconomics where the neoclassical *homo economicus* model has broken down.\n",
    "\n",
    "#### How does this connect to the distributions we talked about earlier?\n",
    "\n",
    "Although it is convenient to formulate and render cellular automata like these in a \"grid world,\" they can actually be interpreted as graphical models, so they are not as far away from networks as they might appear at first. And, as areas of the \"grid\" are assimilated to one factor or another, there are multiplicative effects: for example, in this model, the colored areas (~ 2-dimensional) become overwhelmingly larger than the frontiers (~ 1-dimensional).\n",
    "\n",
    "The homophily model we've looked at here might just as easily describe users of one or another mobile phone or communications platform (in non-geographical cases, the dimensions may represent other aspects of a social or product space) -- so there are definitely applications in business."
   ]
  },
  {
   "cell_type": "markdown",
   "metadata": {},
   "source": [
    "## Exploring path dependence\n",
    "\n",
    "Simple models may evaluate a distribution of outcomes for an individual, team, firm, or other group over a series of choices.\n",
    "\n",
    "For example, when choosing what product to prioritize for the next quarter, projections might assign probabilities and expected profits to different market scenarios and product choices. A business unit might choose to focus on the product with highest expected profit across the projected business scenarios.\n",
    "\n",
    "However -- as anyone familiar with the consequences of technical debt can tell you -- your next choice is rarely made with a blank-slate starting point. We all have to live with the consequences of our previous choices, and that can change the expected outcome dramatically. \n",
    "\n",
    "* In other words, our outcomes are not purely dependent on a current decision. They are dependent on the path of prior steps in the outcome space.\n",
    "\n",
    "### Simple investment model\n",
    "\n",
    "We'll take a look at a simple investment (or gambling) model which produces reliable positive returns when viewed from the an average (or expectation) perspective, but yields ruinous losses when viewed from the path-dependent perspective of any actual investor (or gambler)\n",
    "\n",
    "__The business proposition__\n",
    "\n",
    "* 50/50 risk of success or failure\n",
    "* Success returns 50 cents on the dollar (i.e., \\\\$1 invested returns \\\\$1.50)\n",
    "* Failure produces a loss of 40 cents (i.e., in the failure scenario, one recoups \\\\$0.60 from each \\\\$1 invested)\n",
    "\n",
    "Traditional expectation:"
   ]
  },
  {
   "cell_type": "code",
   "execution_count": null,
   "metadata": {},
   "outputs": [],
   "source": [
    "0.5 * 1.5 + 0.5 * 0.60"
   ]
  },
  {
   "cell_type": "markdown",
   "metadata": {},
   "source": [
    "We can simulate that to get a better idea of the deviation from the ideal average"
   ]
  },
  {
   "cell_type": "code",
   "execution_count": null,
   "metadata": {},
   "outputs": [],
   "source": [
    "sample_size = range(100, 10000, 100)\n",
    "\n",
    "outcomes = []\n",
    "\n",
    "for i in sample_size:\n",
    "    draws = np.random.uniform(0, 1, (i))\n",
    "    draws[draws > 0.5] = 1.50\n",
    "    draws[draws < 1] = 0.6\n",
    "    outcomes.append(draws.mean())\n",
    "    \n",
    "plt.plot(sample_size, outcomes)"
   ]
  },
  {
   "cell_type": "markdown",
   "metadata": {},
   "source": [
    "So it looks like, even for small samples or \"bad luck\" we should do pretty well with this sort of investment.\n",
    "\n",
    "__Ensemble average vs. time average__\n",
    "\n",
    "But this form of average assumes that we start in the same position prior to each investment or bet.\n",
    "\n",
    "* It's a bit like looking at hundreds or thousands of individuals or firms each making one bet. On average, they will (collectively) do well!\n",
    "\n",
    "But let's change our perspective for a moment and look at one individual or firm making a sequence of small bets/investments.\n",
    "\n",
    "* If they make $2n$ investments, we would expect about $n$ to yield the \\\\$1.50 and the other $n$ to yield the \\\\$0.60\n",
    "* So the end result would be $(1.5)^n*(0.6)^n = [(1.5)(0.6)]^n = 0.9^n$\n",
    "\n",
    "Wait ... $0.9^n$ doesn't look very good. In fact, it will go very quickly to zero for any significant $n$\n",
    "\n",
    "Just to be sure, let's simulate this as well:"
   ]
  },
  {
   "cell_type": "code",
   "execution_count": null,
   "metadata": {},
   "outputs": [],
   "source": [
    "steps=200\n",
    "simulations=10000\n",
    "draws = np.random.uniform(0, 1, (simulations, steps))\n",
    "draws[draws > 0.5] = 1.50\n",
    "draws[draws < 1] = 0.6\n",
    "outcomes = draws.prod(axis=1)\n",
    "plt.hist(outcomes, bins=100)"
   ]
  },
  {
   "cell_type": "markdown",
   "metadata": {},
   "source": [
    "Just for comparison, our expected value after `steps` investments"
   ]
  },
  {
   "cell_type": "code",
   "execution_count": null,
   "metadata": {},
   "outputs": [],
   "source": [
    "expected = 1.05 ** steps\n",
    "expected"
   ]
  },
  {
   "cell_type": "code",
   "execution_count": null,
   "metadata": {},
   "outputs": [],
   "source": [
    "outcomes[outcomes < 0.1].size / simulations"
   ]
  },
  {
   "cell_type": "code",
   "execution_count": null,
   "metadata": {},
   "outputs": [],
   "source": [
    "outcomes[outcomes < 1].size / simulations"
   ]
  },
  {
   "cell_type": "code",
   "execution_count": null,
   "metadata": {},
   "outputs": [],
   "source": [
    "outcomes[outcomes > 2].size / simulations"
   ]
  },
  {
   "cell_type": "code",
   "execution_count": null,
   "metadata": {},
   "outputs": [],
   "source": [
    "outcomes[outcomes >= expected].size / simulations"
   ]
  },
  {
   "cell_type": "markdown",
   "metadata": {},
   "source": [
    "__A dramatic view of the \"lifelines\" of a number of agents facing a similar set of options__\n",
    "\n",
    "<img src='images/ergo.webp' width=700>\n",
    "\n",
    "From: https://www.nature.com/articles/s41567-019-0732-0\n",
    "\n",
    "#### Takeaway\n",
    "\n",
    "When does this occur in real life?\n",
    "\n",
    "Although our specific numbers in the present example are contrived, path dependence is a critical factor in many real-world systems:\n",
    "* economic actors\n",
    "* health outcomes\n",
    "* hiring and promotion\n",
    "* education\n",
    "* criminal justice\n",
    "* participation in risk-taking and investment activities\n",
    "\n",
    "__How does this connect to the distributions and patterns we've been talking about?__\n",
    "\n",
    "Notice that, in the path-dependent case,\n",
    "* we have a *series of multiplied values which are not independent*\n",
    "    * (since each multiplication is  dependent on prior state) \n",
    "* where, in the ensemble expectation, we *assumed* that all of the events (values being multiplied) are independent\n",
    "    * (they only depend on the \"rules of the game\" -- every trial starts with 1 dollar)\n",
    "    \n",
    "Once again, we see a compounding effect leading to drastically large (or small) numbers. \n",
    "\n",
    "A concrete example is insurance pools. A sufficiently large and diverse business can \"self insure\" anything from employee health costs to its own fleet of vehicles. Such self insurance can work, provided the losses are independent enough that the ensemble average holds.\n",
    "\n",
    "If a company's employees were all concentrated in an area with common health hazards (say, contaminated air or ground water) then the sequence of repeated of heath-cost losses would not be independent -- risk would be magnified as health losses compound over time.\n",
    "\n",
    "__How do we use this knowledge?__\n",
    "\n",
    "Any time we are looking to achieve an \"average\" result over time, we can ask whether the steps are truly independent. As a technology example, we may have a device that we deploy in the field which features high uptime (time between failures). \n",
    "* To achieve long-term reliability, we want to ensure that the device is as stateless as possible when it recovers\n",
    "* If a device retains state (e.g., internal storage or config) which affect its future success (after recovering from a failure) then the sequence of failures becomes path dependent"
   ]
  },
  {
   "cell_type": "markdown",
   "metadata": {},
   "source": [
    "## Journey Checkpoint\n",
    "\n",
    "We've now taken a brief look at three ways of thinking about interconnected, complex systems.\n",
    "\n",
    "* Specifically, we've learned how to recognize system that can hide huge risk or volatility.\n",
    "\n",
    "This motivates a natural question:\n",
    "\n",
    "* What can we do to mitigate these risks and improve our chances of success?\n",
    "\n",
    "We can now emerge from our detailed investigation with the insight to produce possible answers."
   ]
  },
  {
   "cell_type": "code",
   "execution_count": null,
   "metadata": {},
   "outputs": [],
   "source": []
  }
 ],
 "metadata": {
  "kernelspec": {
   "display_name": "Python 3 (ipykernel)",
   "language": "python",
   "name": "python3"
  },
  "language_info": {
   "codemirror_mode": {
    "name": "ipython",
    "version": 3
   },
   "file_extension": ".py",
   "mimetype": "text/x-python",
   "name": "python",
   "nbconvert_exporter": "python",
   "pygments_lexer": "ipython3",
   "version": "3.9.16"
  }
 },
 "nbformat": 4,
 "nbformat_minor": 4
}
