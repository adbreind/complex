{
 "cells": [
  {
   "cell_type": "markdown",
   "metadata": {},
   "source": [
    "# Exploring Some Complex System Dynamics\n",
    "\n",
    "We want to understand and draw actionable conclusions about some of these systems. Moreover, we want to do so \n",
    "* beforehand (i.e., knowledge about an impending financial crisis is better than observations while it's happening)\n",
    "* in an actionable way (a plan to avoid or mitigate the crisis is more useful than a mere forecast of its occurrence)\n",
    "\n",
    "In many cases, we observe phase-changes or other specific outcomes in similar systems, and we want to inspect the conditions under which we can avoid (or encourage) these outcomes in our own systems.\n",
    "\n",
    "## Generative models and simulations\n",
    "\n",
    "A key mechanism for investigating complex dynamics is a __generative model__.\n",
    "\n",
    "Generative models are mathematical models, typically implemented via computation, which can yield information about some aspects of a system. So they are, in a way, machine learning models. But they are different from the most common, predictive ML models, that look at a set of outcomes (data) and try to predict future results (next quarter's sales) or more general results (transcribing speech).\n",
    "\n",
    "> Generative models posit some __data generating process__ which may be similar to the dynamics in our systems.\n",
    "\n",
    "The models -- also called simulations -- can then produce lots of outcomes based on some initial parameters and the data generating process. \n",
    "\n",
    "By looking at the process, the parameters, and the outcomes, we can learn about the behavior of such a system as parameters are changed.\n",
    "\n",
    "We can then become aware of risks or opportunities that might otherwise be hidden."
   ]
  },
  {
   "cell_type": "markdown",
   "metadata": {},
   "source": [
    "## Some key systems models\n",
    "\n",
    "Today, we'll look at a few classes of models that can reveal some of the challenging dynamics of complexity.\n",
    "\n",
    "We'll take a look at ...\n",
    "* network models\n",
    "* automata\n",
    "\n",
    "Next time we'll look at\n",
    "* agent-based models\n",
    "* path dependence\n",
    "\n",
    "along with examples where they might apply."
   ]
  },
  {
   "cell_type": "markdown",
   "metadata": {},
   "source": [
    "## Network models\n",
    "\n",
    "Many processes exhibit the consequences of network effects. These include both natural and social systems, including business systems.\n",
    "\n",
    "We may want to exploit network effects to\n",
    "* generate sales\n",
    "* dominate/control a product category\n",
    "* spread positive sentiment around our product or firm\n",
    "\n",
    "Conversely we may want to avoid or disrupt network effects to\n",
    "* lower systemic risks (\"domino effect\" cascading failures)\n",
    "* protect intellectual property (limiting the spread of illicit use)\n",
    "* protect secrets and first-mover advantage\n",
    "\n",
    "But not every network exhibits the massive spread we may want to encourage or avoid.\n",
    "\n",
    "__We can experiment on synthetic networks and learn critical dynamics__"
   ]
  },
  {
   "cell_type": "markdown",
   "metadata": {},
   "source": [
    "### Erdos-Renyi Graphs\n",
    "\n",
    "We can think of our scenario of interest as a graph:\n",
    "* a set of nodes, which might represents individuals or firms,\n",
    "* and a set edges connecting pairs of nodes, which might represent communications, transactions, or business relationships.\n",
    "\n",
    "The Erdos-Renyi model (Paul Erdős, Alfréd Rényi, Edgar Gilbert, separate work ~1959) considers a family of graphs that contain some fixed number of nodes __n__ and some fixed probability __p__ that any two nodes are connected.\n",
    "\n",
    "This is a simplistic model, but it produces interesting behavior.\n",
    "\n",
    "If __p__ is close to zero, we can easily imagine that the graph is unlikely to be __connected__ or provide some route between all pairs of nodes.\n",
    "\n",
    "On the other hand, if __p__ is close to one, it is not surprising that the graph ends up connected.\n",
    "\n",
    "In between, things get interesting. Let's take a quick look at how the probability of an E-R graph being connected varies as __p__ changes.\n",
    "\n",
    "How do we do this?\n",
    "\n",
    "The easiest way to explore this -- and a mechanism I recommend because it works even when other methods are intractable or deeply complicated -- is to simulate the system and count outcomes."
   ]
  },
  {
   "cell_type": "code",
   "execution_count": null,
   "metadata": {},
   "outputs": [],
   "source": [
    "import networkx as nx\n",
    "import numpy as np\n",
    "\n",
    "def make_er_graph(n, p):\n",
    "    G = nx.Graph()\n",
    "    nodes = range(n)\n",
    "    G.add_nodes_from(nodes)\n",
    "    G.add_edges_from( (i, j) for i in nodes for j in nodes if  i > j and np.random.random() < p )\n",
    "    return G\n",
    "\n",
    "g = make_er_graph(20, 0.1)\n",
    "nx.draw(g)"
   ]
  },
  {
   "cell_type": "code",
   "execution_count": null,
   "metadata": {},
   "outputs": [],
   "source": [
    "nx.is_connected(g)"
   ]
  },
  {
   "cell_type": "code",
   "execution_count": null,
   "metadata": {},
   "outputs": [],
   "source": [
    "g1 = make_er_graph(20, 0.5)\n",
    "nx.draw(g1)"
   ]
  },
  {
   "cell_type": "code",
   "execution_count": null,
   "metadata": {},
   "outputs": [],
   "source": [
    "nx.is_connected(g1)"
   ]
  },
  {
   "cell_type": "code",
   "execution_count": null,
   "metadata": {},
   "outputs": [],
   "source": [
    "def test_connectivity_for_random_graph(n, p):\n",
    "    return nx.is_connected(make_er_graph(n, p))\n",
    "\n",
    "def prob_connected(n, p, samples):\n",
    "    return sum( (test_connectivity_for_random_graph(n, p) for i in range(samples)) ) / samples\n",
    "\n",
    "prob_connected(20, 0.2, 100)"
   ]
  },
  {
   "cell_type": "code",
   "execution_count": null,
   "metadata": {},
   "outputs": [],
   "source": [
    "from matplotlib import pyplot as plt\n",
    "\n",
    "n = 8\n",
    "samples = 200\n",
    "edge_probs = np.linspace(0, 1, 20)\n",
    "connectivity_probs = [prob_connected(n, p, samples) for p in edge_probs]\n",
    "\n",
    "plt.plot(edge_probs, connectivity_probs)"
   ]
  },
  {
   "cell_type": "markdown",
   "metadata": {},
   "source": [
    "One interesting phenomenon is that this transition point becomes more sudden as the graph grows"
   ]
  },
  {
   "cell_type": "code",
   "execution_count": null,
   "metadata": {},
   "outputs": [],
   "source": [
    "n = 20\n",
    "connectivity_probs = [prob_connected(n, p, samples) for p in edge_probs]\n",
    "\n",
    "plt.plot(edge_probs, connectivity_probs)"
   ]
  },
  {
   "cell_type": "code",
   "execution_count": null,
   "metadata": {},
   "outputs": [],
   "source": [
    "n = 40\n",
    "connectivity_probs = [prob_connected(n, p, samples) for p in edge_probs]\n",
    "\n",
    "plt.plot(edge_probs, connectivity_probs)"
   ]
  },
  {
   "cell_type": "markdown",
   "metadata": {},
   "source": [
    "Erdos and Renyi discovered that the critical value, at which the connectivity probability quickly transitions from 0 to 1, is $\\frac{log(n)}{n}$\n",
    "\n",
    "That number gets close to zero for large n."
   ]
  },
  {
   "cell_type": "code",
   "execution_count": null,
   "metadata": {},
   "outputs": [],
   "source": [
    "np.log(100)/100"
   ]
  },
  {
   "cell_type": "markdown",
   "metadata": {},
   "source": [
    "### Takeaway\n",
    "\n",
    "What are some takeaways from this experiment?\n",
    "\n",
    "For large graphs with random connections, even a tiny probability of connection will likely connect the whole graph.\n",
    "\n",
    "* This could be a good thing -- if you're spreading the word about your new product, or signing up folks to transact on your new money platform.\n",
    "\n",
    "* But it could also be a terrible thing if the \"message\" being passed is a new virus or a pro-genocide meme.\n",
    "\n",
    "In our experiment, we looked at the effect of connectivity. But we can just as easily fix a connectivity probability and ask about the effect of scaling the graph. \n",
    "\n",
    "Because $\\frac{log(n)}{n}$ gets small as n gets big, we can say that for *any* connectivity probability (above zero), there will be a graph size large enough that it is ~100% likely to be connected.\n",
    "\n",
    "In plain language: we've discovered the math behind the assertion that adding more people (or more anything) to a graph makes it inevitable that anything and everything can spread everywhere.\n",
    "\n",
    "If this is the spread of ...\n",
    "* a lifesaving product or knowledge, we have reason to rejoice\n",
    "* our tech platform product, we had better be careful about unintended consequences of that product, because they can be everywhere\n",
    "* financial instability due to propagated risk (as in 2008), we can see that failure was inevitable with scale\n",
    "\n",
    "__How does this connect to the distributions we talked about earlier?__\n",
    "\n",
    "Highly connected networks mean that when signals (info, memes, viruses, etc.) spread, the transmission is multiplicative (as we've seen with Covid and $R_0$) and, of course, the events are not independent -- they are linked by the relations in the graph. So spread through a network can lead to power-law distributions. Depending on the exponent, these may have fat tails and hide a large number of dramatic surprises that would not be expected from thin-tailed distributions.\n",
    "\n",
    "A great overview of network effects in financial risk is https://papers.ssrn.com/sol3/papers.cfm?abstract_id=3651864\n",
    "\n",
    "#### More is Different\n",
    "\n",
    "This phenomenon -- that \"more is different\" or quantity can become quality -- is the idea behind, and title of, a 1972 paper by Philip Anderson often regarded as inaugurating the study of complex systems: https://science.sciencemag.org/content/177/4047/393\n",
    "\n",
    "Since humans and human institutions are used to linear change, this discovery of mechanisms behind sudden, non-linear change is a key tool in designing the outcomes we want in the world."
   ]
  },
  {
   "cell_type": "markdown",
   "metadata": {},
   "source": [
    "## Cellular automata\n",
    "\n",
    "Another form of generative model, cellular automata are discrete systems with a small set of rules governing their evolution over (traditionally discrete) time.\n",
    "\n",
    "CAs are interesting because even very simple ones can exhibit a range of behavior from highly regular to chaotic.\n",
    "\n",
    "### One-dimensional (elementary) automata\n",
    "\n",
    "We can imagine a 1-D CA state as a sequence of discrete \"cells\" each with its own state -- in the simplest case they are either active (\"alive\") or inactive (\"dead\")\n",
    "\n",
    "In the subsequent timestep, a cell's state is determined by its previous state and its previous neighbors' states.\n",
    "\n",
    "Since each cell can be either 0 or 1, there are 2^3 = 8 possible configurations for a cell and its neighbors:\n",
    "\n",
    "`111, 110, 101, 100, 011, 010, 001, 000`\n",
    "\n",
    "An automaton rule maps each of these configurations to a new state (either 0 or 1) for the center cell.\n",
    "\n",
    "The binary representation of a rule is an 8-bit number, where each bit determines the new state of the center cell for one of these configurations. The rightmost bit corresponds to the first configuration (111), the next bit to the right corresponds to the second configuration (110), and so on.\n",
    "\n",
    "So, the binary representation of a rule is simply a compact way to express how the rule maps each of the 8 possible configurations to a new state for the center cell. There are 256 possible elementary cellular automaton rules, each with a unique binary representation that can be converted to a decimal number for naming purposes (e.g., Rule 30, Rule 90).\n",
    "For example, consider Rule 30. Its binary representation is 00011110. We can map the bits to the corresponding configurations like this:\n",
    "\n",
    "```\n",
    "111 110 101 100 011 010 001 000\n",
    "0   0   0   1   1   1   1   0\n",
    "```\n",
    "\n",
    "According to this mapping, Rule 30 dictates that:\n",
    "\n",
    "* If a cell and its neighbors are in configuration 111, the new state of the center cell will be 0.\n",
    "* If a cell and its neighbors are in configuration 110, the new state of the center cell will be 0.\n",
    "* If a cell and its neighbors are in configuration 101, the new state of the center cell will be 0.\n",
    "* If a cell and its neighbors are in configuration 100, the new state of the center cell will be 1.\n",
    "* If a cell and its neighbors are in configuration 011, the new state of the center cell will be 1.\n",
    "* If a cell and its neighbors are in configuration 010, the new state of the center cell will be 1.\n",
    "* If a cell and its neighbors are in configuration 001, the new state of the center cell will be 1.\n",
    "* If a cell and its neighbors are in configuration 000, the new state of the center cell will be 0."
   ]
  },
  {
   "cell_type": "markdown",
   "metadata": {},
   "source": [
    "Three well-known elementary cellular automata have gained significant attention due to their distinct behaviors and properties:\n",
    "\n",
    "* Rule 90 generates a fractal-like pattern known as the Sierpinski triangle. It exhibits less chaotic behavior compared to Rule 30, and its simple and symmetric patterns make it visually appealing. Rule 90 is represented by the binary number 01011010, which is 90 in decimal.\n",
    "\n",
    "* Rule 30 is known for its chaotic and unpredictable behavior. It generates complex patterns from simple initial conditions, and parts of its output are even used as random number generators in some software. Rule 30 is represented by the binary number 00011110, which is 30 in decimal.\n",
    "\n",
    "* Rule 110: Rule 110 is particularly interesting because it exhibits complex behavior and is known to be Turing complete, meaning it can simulate any Turing machine, given an appropriate initial condition. This property implies that Rule 110 can perform any computation, given enough time and space. Rule 110 is represented by the binary number 01101110, which is 110 in decimal.\n",
    "\n",
    "These rules are fascinating because they demonstrate how simple rules can give rise to a wide range of behaviors, from simple and repetitive patterns to complex and unpredictable structures."
   ]
  },
  {
   "cell_type": "code",
   "execution_count": 20,
   "metadata": {
    "tags": []
   },
   "outputs": [
    {
     "name": "stdout",
     "output_type": "stream",
     "text": [
      "                                        #                                       \n",
      "                                       # #                                      \n",
      "                                      #   #                                     \n",
      "                                     # # # #                                    \n",
      "                                    #       #                                   \n",
      "                                   # #     # #                                  \n",
      "                                  #   #   #   #                                 \n",
      "                                 # # # # # # # #                                \n",
      "                                #               #                               \n",
      "                               # #             # #                              \n",
      "                              #   #           #   #                             \n",
      "                             # # # #         # # # #                            \n",
      "                            #       #       #       #                           \n",
      "                           # #     # #     # #     # #                          \n",
      "                          #   #   #   #   #   #   #   #                         \n",
      "                         # # # # # # # # # # # # # # # #                        \n",
      "                        #                               #                       \n",
      "                       # #                             # #                      \n",
      "                      #   #                           #   #                     \n",
      "                     # # # #                         # # # #                    \n",
      "                    #       #                       #       #                   \n",
      "                   # #     # #                     # #     # #                  \n",
      "                  #   #   #   #                   #   #   #   #                 \n",
      "                 # # # # # # # #                 # # # # # # # #                \n",
      "                #               #               #               #               \n",
      "               # #             # #             # #             # #              \n",
      "              #   #           #   #           #   #           #   #             \n",
      "             # # # #         # # # #         # # # #         # # # #            \n",
      "            #       #       #       #       #       #       #       #           \n",
      "           # #     # #     # #     # #     # #     # #     # #     # #          \n",
      "          #   #   #   #   #   #   #   #   #   #   #   #   #   #   #   #         \n",
      "         # # # # # # # # # # # # # # # # # # # # # # # # # # # # # # # #        \n",
      "        #                                                               #       \n",
      "       # #                                                             # #      \n",
      "      #   #                                                           #   #     \n",
      "     # # # #                                                         # # # #    \n",
      "    #       #                                                       #       #   \n",
      "   # #     # #                                                     # #     # #  \n",
      "  #   #   #   #                                                   #   #   #   # \n",
      " # # # # # # # #                                                 # # # # # # # #\n"
     ]
    }
   ],
   "source": [
    "def rule90(left, center, right):\n",
    "    return left ^ right\n",
    "\n",
    "def generate_automata(size, steps, rule):\n",
    "    initial_state = [0] * size\n",
    "    initial_state[size // 2] = 1\n",
    "\n",
    "    automata = [initial_state]\n",
    "\n",
    "    for _ in range(steps - 1):\n",
    "        current_state = automata[-1]\n",
    "        next_state = [0] * size\n",
    "\n",
    "        for i in range(size):\n",
    "            left = current_state[(i - 1) % size]\n",
    "            center = current_state[i]\n",
    "            right = current_state[(i + 1) % size]\n",
    "\n",
    "            next_state[i] = rule(left, center, right)\n",
    "\n",
    "        automata.append(next_state)\n",
    "\n",
    "    return automata\n",
    "\n",
    "def print_automata(automata):\n",
    "    for state in automata:\n",
    "        print(\"\".join(\"#\" if cell else \" \" for cell in state))\n",
    "\n",
    "size = 80\n",
    "steps = 40\n",
    "\n",
    "automata = generate_automata(size, steps, rule90)\n",
    "print_automata(automata)"
   ]
  },
  {
   "cell_type": "code",
   "execution_count": 21,
   "metadata": {
    "tags": []
   },
   "outputs": [
    {
     "name": "stdout",
     "output_type": "stream",
     "text": [
      "                                        #                                       \n",
      "                                       ###                                      \n",
      "                                      ##  #                                     \n",
      "                                     ## ####                                    \n",
      "                                    ##  #   #                                   \n",
      "                                   ## #### ###                                  \n",
      "                                  ##  #    #  #                                 \n",
      "                                 ## ####  ######                                \n",
      "                                ##  #   ###     #                               \n",
      "                               ## #### ##  #   ###                              \n",
      "                              ##  #    # #### ##  #                             \n",
      "                             ## ####  ## #    # ####                            \n",
      "                            ##  #   ###  ##  ## #   #                           \n",
      "                           ## #### ##  ### ###  ## ###                          \n",
      "                          ##  #    # ###   #  ###  #  #                         \n",
      "                         ## ####  ## #  # #####  #######                        \n",
      "                        ##  #   ###  #### #    ###      #                       \n",
      "                       ## #### ##  ###    ##  ##  #    ###                      \n",
      "                      ##  #    # ###  #  ## ### ####  ##  #                     \n",
      "                     ## ####  ## #  ######  #   #   ### ####                    \n",
      "                    ##  #   ###  ####     #### ### ##   #   #                   \n",
      "                   ## #### ##  ###   #   ##    #   # # ### ###                  \n",
      "                  ##  #    # ###  # ### ## #  ### ## # #   #  #                 \n",
      "                 ## ####  ## #  ### #   #  ####   #  # ## ######                \n",
      "                ##  #   ###  ####   ## #####   # ##### #  #     #               \n",
      "               ## #### ##  ###   # ##  #    # ## #     #####   ###              \n",
      "              ##  #    # ###  # ## # ####  ## #  ##   ##    # ##  #             \n",
      "             ## ####  ## #  ### #  # #   ###  #### # ## #  ## # ####            \n",
      "            ##  #   ###  ####   #### ## ##  ###    # #  ####  # #   #           \n",
      "           ## #### ##  ###   # ##    #  # ###  #  ## ####   ### ## ###          \n",
      "          ##  #    # ###  # ## # #  ##### #  ######  #   # ##   #  #  #         \n",
      "         ## ####  ## #  ### #  # ####     ####     #### ## # # #########        \n",
      "        ##  #   ###  ####   #### #   #   ##   #   ##    #  # # #        #       \n",
      "       ## #### ##  ###   # ##    ## ### ## # ### ## #  ##### # ##      ###      \n",
      "      ##  #    # ###  # ## # #  ##  #   #  # #   #  ####     # # #    ##  #     \n",
      "     ## ####  ## #  ### #  # #### #### ##### ## #####   #   ## # ##  ## ####    \n",
      "    ##  #   ###  ####   #### #    #    #     #  #    # ### ##  # # ###  #   #   \n",
      "   ## #### ##  ###   # ##    ##  ###  ###   ######  ## #   # ### # #  #### ###  \n",
      "  ##  #    # ###  # ## # #  ## ###  ###  # ##     ###  ## ## #   # ####    #  # \n",
      " ## ####  ## #  ### #  # ####  #  ###  ### # #   ##  ###  #  ## ## #   #  ######\n"
     ]
    }
   ],
   "source": [
    "def rule30(left, center, right):\n",
    "    return left ^ (center or right)\n",
    "\n",
    "automata = generate_automata(size, steps, rule30)\n",
    "print_automata(automata)"
   ]
  },
  {
   "cell_type": "code",
   "execution_count": 23,
   "metadata": {
    "tags": []
   },
   "outputs": [
    {
     "name": "stdout",
     "output_type": "stream",
     "text": [
      "                                        #                                       \n",
      "                                       ##                                       \n",
      "                                      ###                                       \n",
      "                                     ## #                                       \n",
      "                                    #####                                       \n",
      "                                   ##   #                                       \n",
      "                                  ###  ##                                       \n",
      "                                 ## # ###                                       \n",
      "                                ####### #                                       \n",
      "                               ##     ###                                       \n",
      "                              ###    ## #                                       \n",
      "                             ## #   #####                                       \n",
      "                            #####  ##   #                                       \n",
      "                           ##   # ###  ##                                       \n",
      "                          ###  #### # ###                                       \n",
      "                         ## # ##  ##### #                                       \n",
      "                        ######## ##   ###                                       \n",
      "                       ##      ####  ## #                                       \n",
      "                      ###     ##  # #####                                       \n",
      "                     ## #    ### ####   #                                       \n",
      "                    #####   ## ###  #  ##                                       \n",
      "                   ##   #  ##### # ## ###                                       \n",
      "                  ###  ## ##   ######## #                                       \n",
      "                 ## # ######  ##      ###                                       \n",
      "                #######    # ###     ## #                                       \n",
      "               ##     #   #### #    #####                                       \n",
      "              ###    ##  ##  ###   ##   #                                       \n",
      "             ## #   ### ### ## #  ###  ##                                       \n",
      "            #####  ## ### ###### ## # ###                                       \n",
      "           ##   # ##### ###    ######## #                                       \n",
      "          ###  ####   ### #   ##      ###                                       \n",
      "         ## # ##  #  ## ###  ###     ## #                                       \n",
      "        ######## ## ##### # ## #    #####                                       \n",
      "       ##      ######   ########   ##   #                                       \n",
      "      ###     ##    #  ##      #  ###  ##                                       \n",
      "     ## #    ###   ## ###     ## ## # ###                                       \n",
      "    #####   ## #  ##### #    ########## #                                       \n",
      "   ##   #  ##### ##   ###   ##        ###                                       \n",
      "  ###  ## ##   ####  ## #  ###       ## #                                       \n",
      " ## # ######  ##  # ##### ## #      #####                                       \n"
     ]
    }
   ],
   "source": [
    "def rule110(left, center, right):\n",
    "    return (left and center and not right) or (left and not center and right) or (not left and center and right) or \\\n",
    "            (not left and center and not right) or (not left and not center and right)\n",
    "\n",
    "automata = generate_automata(size, steps, rule110)\n",
    "\n",
    "\n",
    "print_automata(automata)"
   ]
  },
  {
   "cell_type": "markdown",
   "metadata": {},
   "source": [
    "### Optional exercise: Conway's Game of Life\n",
    "\n",
    "Possibly the most famous CA of all time is the 2-D CA known as Conway's Game of Life.\n",
    "\n",
    "Let's take a quick look: https://en.wikipedia.org/wiki/Conway%27s_Game_of_Life\n",
    "\n",
    "The Game of Life is fascinating for numerous reasons, but the one we're focusing on today is another key phenomenon of complex systems, __emergence__.\n",
    "\n",
    "__Emergence__ is another way of describing the manifestation of interesting, potentially surprising, nonlinear outcomes from a simple set of mechanistic rules.\n",
    "\n",
    "Game of Life has a trivial ruleset and a passive environment and gives rise to astonishing complexity."
   ]
  },
  {
   "cell_type": "code",
   "execution_count": null,
   "metadata": {},
   "outputs": [],
   "source": []
  }
 ],
 "metadata": {
  "kernelspec": {
   "display_name": "Python 3 (ipykernel)",
   "language": "python",
   "name": "python3"
  },
  "language_info": {
   "codemirror_mode": {
    "name": "ipython",
    "version": 3
   },
   "file_extension": ".py",
   "mimetype": "text/x-python",
   "name": "python",
   "nbconvert_exporter": "python",
   "pygments_lexer": "ipython3",
   "version": "3.9.16"
  }
 },
 "nbformat": 4,
 "nbformat_minor": 4
}
